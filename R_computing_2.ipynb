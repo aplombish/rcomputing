{
 "cells": [
  {
   "cell_type": "markdown",
   "metadata": {},
   "source": [
    "#3강 데이터의 입력과 저장"
   ]
  },
  {
   "cell_type": "markdown",
   "metadata": {},
   "source": [
    "#작업디렉토리 설정(setwd) 및 확인 (getwd())"
   ]
  },
  {
   "cell_type": "code",
   "execution_count": 6,
   "metadata": {},
   "outputs": [
    {
     "data": {
      "text/html": [
       "<table>\n",
       "<thead><tr><th scope=col>x</th><th scope=col>y</th></tr></thead>\n",
       "<tbody>\n",
       "\t<tr><td>1 </td><td>10</td></tr>\n",
       "\t<tr><td>2 </td><td>20</td></tr>\n",
       "\t<tr><td>3 </td><td>30</td></tr>\n",
       "\t<tr><td>4 </td><td>40</td></tr>\n",
       "\t<tr><td>5 </td><td>50</td></tr>\n",
       "</tbody>\n",
       "</table>\n"
      ],
      "text/latex": [
       "\\begin{tabular}{ll}\n",
       " x & y\\\\\n",
       "\\hline\n",
       "\t 1  & 10\\\\\n",
       "\t 2  & 20\\\\\n",
       "\t 3  & 30\\\\\n",
       "\t 4  & 40\\\\\n",
       "\t 5  & 50\\\\\n",
       "\\end{tabular}\n"
      ],
      "text/markdown": [
       "\n",
       "| x | y |\n",
       "|---|---|\n",
       "| 1  | 10 |\n",
       "| 2  | 20 |\n",
       "| 3  | 30 |\n",
       "| 4  | 40 |\n",
       "| 5  | 50 |\n",
       "\n"
      ],
      "text/plain": [
       "     x y \n",
       "[1,] 1 10\n",
       "[2,] 2 20\n",
       "[3,] 3 30\n",
       "[4,] 4 40\n",
       "[5,] 5 50"
      ]
     },
     "metadata": {},
     "output_type": "display_data"
    }
   ],
   "source": [
    "x <- c(1,2,3,4,5)\n",
    "y <- c(10,20,30,40,50)\n",
    "dat <- cbind(x,y)\n",
    "dat"
   ]
  },
  {
   "cell_type": "code",
   "execution_count": 9,
   "metadata": {},
   "outputs": [
    {
     "data": {
      "text/html": [
       "23"
      ],
      "text/latex": [
       "23"
      ],
      "text/markdown": [
       "23"
      ],
      "text/plain": [
       "[1] 23"
      ]
     },
     "metadata": {},
     "output_type": "display_data"
    },
    {
     "data": {
      "text/html": [
       "4"
      ],
      "text/latex": [
       "4"
      ],
      "text/markdown": [
       "4"
      ],
      "text/plain": [
       "[1] 4"
      ]
     },
     "metadata": {},
     "output_type": "display_data"
    },
    {
     "data": {
      "text/html": [
       "5"
      ],
      "text/latex": [
       "5"
      ],
      "text/markdown": [
       "5"
      ],
      "text/plain": [
       "[1] 5"
      ]
     },
     "metadata": {},
     "output_type": "display_data"
    },
    {
     "data": {
      "text/html": [
       "6"
      ],
      "text/latex": [
       "6"
      ],
      "text/markdown": [
       "6"
      ],
      "text/plain": [
       "[1] 6"
      ]
     },
     "metadata": {},
     "output_type": "display_data"
    },
    {
     "data": {
      "text/html": [
       "7"
      ],
      "text/latex": [
       "7"
      ],
      "text/markdown": [
       "7"
      ],
      "text/plain": [
       "[1] 7"
      ]
     },
     "metadata": {},
     "output_type": "display_data"
    }
   ],
   "source": [
    "w1 <- scan() #방을 만들어서 scan 쓴 다음에 입력 끝나면 공백에서 엔터 \n",
    "23\n",
    "4\n",
    "5\n",
    "6\n",
    "7\n"
   ]
  },
  {
   "cell_type": "markdown",
   "metadata": {},
   "source": [
    "#edit() 함수 이용한 입력 (창을 새로 띄워서 입력)"
   ]
  },
  {
   "cell_type": "markdown",
   "metadata": {},
   "source": [
    "#데이터 저장"
   ]
  },
  {
   "cell_type": "markdown",
   "metadata": {},
   "source": [
    "sink() 시작 시 저장할 파일명을 지정하고 원하는 함수를 실행시킨 뒤 종료시 sink()로 마감. write.csv(dat, '파일명.csv', quote=T, rownmaes=T 등의 옵션 가능) write.table() 도 비슷한데 공백으로 구분해주고 sep=\",' 로 주면 csv 와 비슷해 진다 "
   ]
  },
  {
   "cell_type": "markdown",
   "metadata": {},
   "source": [
    "read.csv ('파일명', header=T(이거 디폴트옵션) 변수명이 없는 첫번째 칼럼은 x라는 변수명 자동 할당됨 (그래서 미리 csv 파일 전처리해야함)stringsAsFactors=F 라는 옵션을 주면 문자 변수가 factor 변수로 인식되지 않도록 지정 read.table 은 header=F 가 디폴트라는 점이 read.csv 와 다르다. na.strings='aa' 하면 aa를 결측치로 인식. "
   ]
  },
  {
   "cell_type": "markdown",
   "metadata": {},
   "source": [
    "#객체 확인 및 삭제\n",
    "ls() 모든 객체 확인, rm(list=ls()) 모든 객체 삭제  "
   ]
  },
  {
   "cell_type": "markdown",
   "metadata": {},
   "source": [
    "#4강 데이터 구조 (1) - 벡터, 행렬"
   ]
  },
  {
   "cell_type": "code",
   "execution_count": 1,
   "metadata": {},
   "outputs": [
    {
     "data": {
      "text/html": [
       "5"
      ],
      "text/latex": [
       "5"
      ],
      "text/markdown": [
       "5"
      ],
      "text/plain": [
       "[1] 5"
      ]
     },
     "metadata": {},
     "output_type": "display_data"
    }
   ],
   "source": [
    "v1 <- c(\"1\", \"Korea\", \"National\", \"Open\", \"University\")\n",
    "length(v1) #벡터의 크기 출력"
   ]
  },
  {
   "cell_type": "code",
   "execution_count": 3,
   "metadata": {},
   "outputs": [
    {
     "data": {
      "text/html": [
       "<ol class=list-inline>\n",
       "\t<li>3</li>\n",
       "\t<li>4</li>\n",
       "\t<li>5</li>\n",
       "\t<li>6</li>\n",
       "\t<li>7</li>\n",
       "</ol>\n"
      ],
      "text/latex": [
       "\\begin{enumerate*}\n",
       "\\item 3\n",
       "\\item 4\n",
       "\\item 5\n",
       "\\item 6\n",
       "\\item 7\n",
       "\\end{enumerate*}\n"
      ],
      "text/markdown": [
       "1. 3\n",
       "2. 4\n",
       "3. 5\n",
       "4. 6\n",
       "5. 7\n",
       "\n",
       "\n"
      ],
      "text/plain": [
       "[1] 3 4 5 6 7"
      ]
     },
     "metadata": {},
     "output_type": "display_data"
    },
    {
     "data": {
      "text/html": [
       "<ol class=list-inline>\n",
       "\t<li>3</li>\n",
       "\t<li>4</li>\n",
       "\t<li>5</li>\n",
       "\t<li>6</li>\n",
       "\t<li>7</li>\n",
       "</ol>\n"
      ],
      "text/latex": [
       "\\begin{enumerate*}\n",
       "\\item 3\n",
       "\\item 4\n",
       "\\item 5\n",
       "\\item 6\n",
       "\\item 7\n",
       "\\end{enumerate*}\n"
      ],
      "text/markdown": [
       "1. 3\n",
       "2. 4\n",
       "3. 5\n",
       "4. 6\n",
       "5. 7\n",
       "\n",
       "\n"
      ],
      "text/plain": [
       "[1] 3 4 5 6 7"
      ]
     },
     "metadata": {},
     "output_type": "display_data"
    }
   ],
   "source": [
    "seq (from=3, to=7, by=1) #from=시작값, to=종료값, by=증가분\n",
    "seq (3,7,1) #생략 시 시작, 종료, 증가분 순서로 인식"
   ]
  },
  {
   "cell_type": "code",
   "execution_count": 4,
   "metadata": {},
   "outputs": [
    {
     "data": {
      "text/html": [
       "<ol class=list-inline>\n",
       "\t<li>3</li>\n",
       "\t<li>5</li>\n",
       "\t<li>7</li>\n",
       "</ol>\n"
      ],
      "text/latex": [
       "\\begin{enumerate*}\n",
       "\\item 3\n",
       "\\item 5\n",
       "\\item 7\n",
       "\\end{enumerate*}\n"
      ],
      "text/markdown": [
       "1. 3\n",
       "2. 5\n",
       "3. 7\n",
       "\n",
       "\n"
      ],
      "text/plain": [
       "[1] 3 5 7"
      ]
     },
     "metadata": {},
     "output_type": "display_data"
    }
   ],
   "source": [
    "seq(3,7, length=3) #length = 원소 3개"
   ]
  },
  {
   "cell_type": "code",
   "execution_count": 5,
   "metadata": {},
   "outputs": [
    {
     "data": {
      "text/html": [
       "<ol class=list-inline>\n",
       "\t<li>1</li>\n",
       "\t<li>1.05</li>\n",
       "\t<li>1.1</li>\n",
       "\t<li>1.15</li>\n",
       "\t<li>1.2</li>\n",
       "</ol>\n"
      ],
      "text/latex": [
       "\\begin{enumerate*}\n",
       "\\item 1\n",
       "\\item 1.05\n",
       "\\item 1.1\n",
       "\\item 1.15\n",
       "\\item 1.2\n",
       "\\end{enumerate*}\n"
      ],
      "text/markdown": [
       "1. 1\n",
       "2. 1.05\n",
       "3. 1.1\n",
       "4. 1.15\n",
       "5. 1.2\n",
       "\n",
       "\n"
      ],
      "text/plain": [
       "[1] 1.00 1.05 1.10 1.15 1.20"
      ]
     },
     "metadata": {},
     "output_type": "display_data"
    }
   ],
   "source": [
    "seq(from=1, by=0.05, along=1:5) #along 으로 수열지정시 해당 수열에 따라 동일한 크기 벡터 생성"
   ]
  },
  {
   "cell_type": "code",
   "execution_count": 6,
   "metadata": {},
   "outputs": [
    {
     "data": {
      "text/html": [
       "<ol class=list-inline>\n",
       "\t<li>1</li>\n",
       "\t<li>2</li>\n",
       "\t<li>1</li>\n",
       "\t<li>2</li>\n",
       "</ol>\n"
      ],
      "text/latex": [
       "\\begin{enumerate*}\n",
       "\\item 1\n",
       "\\item 2\n",
       "\\item 1\n",
       "\\item 2\n",
       "\\end{enumerate*}\n"
      ],
      "text/markdown": [
       "1. 1\n",
       "2. 2\n",
       "3. 1\n",
       "4. 2\n",
       "\n",
       "\n"
      ],
      "text/plain": [
       "[1] 1 2 1 2"
      ]
     },
     "metadata": {},
     "output_type": "display_data"
    }
   ],
   "source": [
    "rep(c(1,2), times=2) #1과 2로 구성된 벡터를 2회 반복"
   ]
  },
  {
   "cell_type": "code",
   "execution_count": 7,
   "metadata": {},
   "outputs": [
    {
     "data": {
      "text/html": [
       "<ol class=list-inline>\n",
       "\t<li>1</li>\n",
       "\t<li>2</li>\n",
       "\t<li>1</li>\n",
       "\t<li>2</li>\n",
       "</ol>\n"
      ],
      "text/latex": [
       "\\begin{enumerate*}\n",
       "\\item 1\n",
       "\\item 2\n",
       "\\item 1\n",
       "\\item 2\n",
       "\\end{enumerate*}\n"
      ],
      "text/markdown": [
       "1. 1\n",
       "2. 2\n",
       "3. 1\n",
       "4. 2\n",
       "\n",
       "\n"
      ],
      "text/plain": [
       "[1] 1 2 1 2"
      ]
     },
     "metadata": {},
     "output_type": "display_data"
    }
   ],
   "source": [
    "rep(1:2, times=2) #1에서 2까지로 구성된 벡터를 2회 반복"
   ]
  },
  {
   "cell_type": "code",
   "execution_count": 8,
   "metadata": {},
   "outputs": [
    {
     "data": {
      "text/html": [
       "<ol class=list-inline>\n",
       "\t<li>2</li>\n",
       "\t<li>2</li>\n",
       "\t<li>4</li>\n",
       "</ol>\n"
      ],
      "text/latex": [
       "\\begin{enumerate*}\n",
       "\\item 2\n",
       "\\item 2\n",
       "\\item 4\n",
       "\\end{enumerate*}\n"
      ],
      "text/markdown": [
       "1. 2\n",
       "2. 2\n",
       "3. 4\n",
       "\n",
       "\n"
      ],
      "text/plain": [
       "[1] 2 2 4"
      ]
     },
     "metadata": {},
     "output_type": "display_data"
    }
   ],
   "source": [
    "rep(c(2,4), times=c(2,1)) #앞의 원소는 2회, 뒤의 원소는 1회 반복"
   ]
  },
  {
   "cell_type": "code",
   "execution_count": 9,
   "metadata": {},
   "outputs": [
    {
     "data": {
      "text/html": [
       "<ol class=list-inline>\n",
       "\t<li>2</li>\n",
       "\t<li>2</li>\n",
       "\t<li>4</li>\n",
       "\t<li>4</li>\n",
       "</ol>\n"
      ],
      "text/latex": [
       "\\begin{enumerate*}\n",
       "\\item 2\n",
       "\\item 2\n",
       "\\item 4\n",
       "\\item 4\n",
       "\\end{enumerate*}\n"
      ],
      "text/markdown": [
       "1. 2\n",
       "2. 2\n",
       "3. 4\n",
       "4. 4\n",
       "\n",
       "\n"
      ],
      "text/plain": [
       "[1] 2 2 4 4"
      ]
     },
     "metadata": {},
     "output_type": "display_data"
    }
   ],
   "source": [
    "rep(c(2,4), each=2) #앞, 뒤 모든 원소를 2회 반복"
   ]
  },
  {
   "cell_type": "code",
   "execution_count": 10,
   "metadata": {},
   "outputs": [
    {
     "data": {
      "text/html": [
       "<ol class=list-inline>\n",
       "\t<li>2</li>\n",
       "\t<li>4</li>\n",
       "\t<li>8</li>\n",
       "\t<li>2</li>\n",
       "\t<li>4</li>\n",
       "</ol>\n"
      ],
      "text/latex": [
       "\\begin{enumerate*}\n",
       "\\item 2\n",
       "\\item 4\n",
       "\\item 8\n",
       "\\item 2\n",
       "\\item 4\n",
       "\\end{enumerate*}\n"
      ],
      "text/markdown": [
       "1. 2\n",
       "2. 4\n",
       "3. 8\n",
       "4. 2\n",
       "5. 4\n",
       "\n",
       "\n"
      ],
      "text/plain": [
       "[1] 2 4 8 2 4"
      ]
     },
     "metadata": {},
     "output_type": "display_data"
    }
   ],
   "source": [
    "rep(c(2,4,8), length=5) #2,4,8로 구성된 벡터를 반복하되 생선되는 벡터의 크기를 5로 한정"
   ]
  },
  {
   "cell_type": "markdown",
   "metadata": {},
   "source": [
    "#데이터의 편집\n",
    "na.last=TRUE 라고 기본값으로 지정된 옵션의 의미는 만약 결측치 존재한다면 자료의 맨 끝에 위치하는 것으로 간주 decreasing=FALSE 오름차순을 기본으로 하라"
   ]
  },
  {
   "cell_type": "code",
   "execution_count": 11,
   "metadata": {},
   "outputs": [
    {
     "data": {
      "text/html": [
       "<ol class=list-inline>\n",
       "\t<li>11</li>\n",
       "\t<li>12</li>\n",
       "\t<li>13</li>\n",
       "\t<li>14</li>\n",
       "\t<li>15</li>\n",
       "\t<li>16</li>\n",
       "\t<li>17</li>\n",
       "\t<li>18</li>\n",
       "\t<li>19</li>\n",
       "\t<li>20</li>\n",
       "</ol>\n"
      ],
      "text/latex": [
       "\\begin{enumerate*}\n",
       "\\item 11\n",
       "\\item 12\n",
       "\\item 13\n",
       "\\item 14\n",
       "\\item 15\n",
       "\\item 16\n",
       "\\item 17\n",
       "\\item 18\n",
       "\\item 19\n",
       "\\item 20\n",
       "\\end{enumerate*}\n"
      ],
      "text/markdown": [
       "1. 11\n",
       "2. 12\n",
       "3. 13\n",
       "4. 14\n",
       "5. 15\n",
       "6. 16\n",
       "7. 17\n",
       "8. 18\n",
       "9. 19\n",
       "10. 20\n",
       "\n",
       "\n"
      ],
      "text/plain": [
       " [1] 11 12 13 14 15 16 17 18 19 20"
      ]
     },
     "metadata": {},
     "output_type": "display_data"
    }
   ],
   "source": [
    "v1<-c(11:20)\n",
    "v1"
   ]
  },
  {
   "cell_type": "code",
   "execution_count": 12,
   "metadata": {},
   "outputs": [
    {
     "data": {
      "text/html": [
       "<ol class=list-inline>\n",
       "\t<li>13</li>\n",
       "\t<li>15</li>\n",
       "</ol>\n"
      ],
      "text/latex": [
       "\\begin{enumerate*}\n",
       "\\item 13\n",
       "\\item 15\n",
       "\\end{enumerate*}\n"
      ],
      "text/markdown": [
       "1. 13\n",
       "2. 15\n",
       "\n",
       "\n"
      ],
      "text/plain": [
       "[1] 13 15"
      ]
     },
     "metadata": {},
     "output_type": "display_data"
    }
   ],
   "source": [
    "v1[c(3,5)] #v1의 세번째와 다섯번째 값 출력"
   ]
  },
  {
   "cell_type": "code",
   "execution_count": 13,
   "metadata": {},
   "outputs": [
    {
     "data": {
      "text/html": [
       "<ol class=list-inline>\n",
       "\t<li>16</li>\n",
       "\t<li>17</li>\n",
       "\t<li>18</li>\n",
       "\t<li>19</li>\n",
       "\t<li>20</li>\n",
       "</ol>\n"
      ],
      "text/latex": [
       "\\begin{enumerate*}\n",
       "\\item 16\n",
       "\\item 17\n",
       "\\item 18\n",
       "\\item 19\n",
       "\\item 20\n",
       "\\end{enumerate*}\n"
      ],
      "text/markdown": [
       "1. 16\n",
       "2. 17\n",
       "3. 18\n",
       "4. 19\n",
       "5. 20\n",
       "\n",
       "\n"
      ],
      "text/plain": [
       "[1] 16 17 18 19 20"
      ]
     },
     "metadata": {},
     "output_type": "display_data"
    }
   ],
   "source": [
    "v1[v1>15] #v1의 원소 중 15보다 큰 값을 출력"
   ]
  },
  {
   "cell_type": "code",
   "execution_count": 14,
   "metadata": {},
   "outputs": [
    {
     "data": {
      "text/html": [
       "<ol class=list-inline>\n",
       "\t<li>11</li>\n",
       "\t<li>13</li>\n",
       "\t<li>15</li>\n",
       "\t<li>16</li>\n",
       "\t<li>17</li>\n",
       "\t<li>18</li>\n",
       "\t<li>19</li>\n",
       "\t<li>20</li>\n",
       "</ol>\n"
      ],
      "text/latex": [
       "\\begin{enumerate*}\n",
       "\\item 11\n",
       "\\item 13\n",
       "\\item 15\n",
       "\\item 16\n",
       "\\item 17\n",
       "\\item 18\n",
       "\\item 19\n",
       "\\item 20\n",
       "\\end{enumerate*}\n"
      ],
      "text/markdown": [
       "1. 11\n",
       "2. 13\n",
       "3. 15\n",
       "4. 16\n",
       "5. 17\n",
       "6. 18\n",
       "7. 19\n",
       "8. 20\n",
       "\n",
       "\n"
      ],
      "text/plain": [
       "[1] 11 13 15 16 17 18 19 20"
      ]
     },
     "metadata": {},
     "output_type": "display_data"
    }
   ],
   "source": [
    "v1[c(-2,-4)] #v1의 원소 중 두 번째와 네 번째 값을 삭제하고 출력 "
   ]
  },
  {
   "cell_type": "code",
   "execution_count": 15,
   "metadata": {},
   "outputs": [
    {
     "data": {
      "text/html": [
       "<ol class=list-inline>\n",
       "\t<li>1</li>\n",
       "\t<li>2</li>\n",
       "\t<li>3</li>\n",
       "\t<li>4</li>\n",
       "\t<li>5</li>\n",
       "</ol>\n"
      ],
      "text/latex": [
       "\\begin{enumerate*}\n",
       "\\item 1\n",
       "\\item 2\n",
       "\\item 3\n",
       "\\item 4\n",
       "\\item 5\n",
       "\\end{enumerate*}\n"
      ],
      "text/markdown": [
       "1. 1\n",
       "2. 2\n",
       "3. 3\n",
       "4. 4\n",
       "5. 5\n",
       "\n",
       "\n"
      ],
      "text/plain": [
       "[1] 1 2 3 4 5"
      ]
     },
     "metadata": {},
     "output_type": "display_data"
    }
   ],
   "source": [
    "v2 <-c(1:5)\n",
    "v2"
   ]
  },
  {
   "cell_type": "code",
   "execution_count": 16,
   "metadata": {},
   "outputs": [
    {
     "data": {
      "text/html": [
       "<ol class=list-inline>\n",
       "\t<li>1</li>\n",
       "\t<li>6</li>\n",
       "\t<li>3</li>\n",
       "\t<li>4</li>\n",
       "\t<li>5</li>\n",
       "</ol>\n"
      ],
      "text/latex": [
       "\\begin{enumerate*}\n",
       "\\item 1\n",
       "\\item 6\n",
       "\\item 3\n",
       "\\item 4\n",
       "\\item 5\n",
       "\\end{enumerate*}\n"
      ],
      "text/markdown": [
       "1. 1\n",
       "2. 6\n",
       "3. 3\n",
       "4. 4\n",
       "5. 5\n",
       "\n",
       "\n"
      ],
      "text/plain": [
       "[1] 1 6 3 4 5"
      ]
     },
     "metadata": {},
     "output_type": "display_data"
    }
   ],
   "source": [
    "replace (v2,2,6) #v2의 두번째 원소 값을 6으로 변경"
   ]
  },
  {
   "cell_type": "code",
   "execution_count": 17,
   "metadata": {},
   "outputs": [
    {
     "data": {
      "text/html": [
       "<ol class=list-inline>\n",
       "\t<li>1</li>\n",
       "\t<li>2</li>\n",
       "\t<li>3</li>\n",
       "\t<li>4</li>\n",
       "\t<li>5</li>\n",
       "\t<li>8</li>\n",
       "</ol>\n"
      ],
      "text/latex": [
       "\\begin{enumerate*}\n",
       "\\item 1\n",
       "\\item 2\n",
       "\\item 3\n",
       "\\item 4\n",
       "\\item 5\n",
       "\\item 8\n",
       "\\end{enumerate*}\n"
      ],
      "text/markdown": [
       "1. 1\n",
       "2. 2\n",
       "3. 3\n",
       "4. 4\n",
       "5. 5\n",
       "6. 8\n",
       "\n",
       "\n"
      ],
      "text/plain": [
       "[1] 1 2 3 4 5 8"
      ]
     },
     "metadata": {},
     "output_type": "display_data"
    }
   ],
   "source": [
    "append(v2,8,after=5)#v2의 다섯 번째 값 다음에 8을 추가"
   ]
  },
  {
   "cell_type": "code",
   "execution_count": 18,
   "metadata": {},
   "outputs": [
    {
     "data": {
      "text/html": [
       "<ol class=list-inline>\n",
       "\t<li>1</li>\n",
       "\t<li>2</li>\n",
       "\t<li>3</li>\n",
       "\t<li>4</li>\n",
       "\t<li>5</li>\n",
       "\t<li>8</li>\n",
       "</ol>\n"
      ],
      "text/latex": [
       "\\begin{enumerate*}\n",
       "\\item 1\n",
       "\\item 2\n",
       "\\item 3\n",
       "\\item 4\n",
       "\\item 5\n",
       "\\item 8\n",
       "\\end{enumerate*}\n"
      ],
      "text/markdown": [
       "1. 1\n",
       "2. 2\n",
       "3. 3\n",
       "4. 4\n",
       "5. 5\n",
       "6. 8\n",
       "\n",
       "\n"
      ],
      "text/plain": [
       "[1] 1 2 3 4 5 8"
      ]
     },
     "metadata": {},
     "output_type": "display_data"
    }
   ],
   "source": [
    "v3 <-append(v2,8,after=5)\n",
    "v3"
   ]
  },
  {
   "cell_type": "markdown",
   "metadata": {},
   "source": [
    "#3을 세번 반복한 뒤 3에서 7까지 2만큼의 증가분으로 수열을 생성하고 이어서 rev()함수를 이용해서 3에서 7까지 이르는 크기 3인 벡터의 역순을 구해 연결한 뒤 4를 세 번 반복한 벡터를 덧붙임 + 여기다 sort 이용해서 오름차순 정렬, rank 함수를 통해 자료 순위 출력, order 함수 이용해 오름차순에 의한 자료의 위치 값 출력"
   ]
  },
  {
   "cell_type": "code",
   "execution_count": 19,
   "metadata": {},
   "outputs": [
    {
     "data": {
      "text/html": [
       "<ol class=list-inline>\n",
       "\t<li>3</li>\n",
       "\t<li>3</li>\n",
       "\t<li>3</li>\n",
       "</ol>\n"
      ],
      "text/latex": [
       "\\begin{enumerate*}\n",
       "\\item 3\n",
       "\\item 3\n",
       "\\item 3\n",
       "\\end{enumerate*}\n"
      ],
      "text/markdown": [
       "1. 3\n",
       "2. 3\n",
       "3. 3\n",
       "\n",
       "\n"
      ],
      "text/plain": [
       "[1] 3 3 3"
      ]
     },
     "metadata": {},
     "output_type": "display_data"
    },
    {
     "data": {
      "text/html": [
       "<ol class=list-inline>\n",
       "\t<li>7</li>\n",
       "\t<li>5</li>\n",
       "\t<li>3</li>\n",
       "</ol>\n"
      ],
      "text/latex": [
       "\\begin{enumerate*}\n",
       "\\item 7\n",
       "\\item 5\n",
       "\\item 3\n",
       "\\end{enumerate*}\n"
      ],
      "text/markdown": [
       "1. 7\n",
       "2. 5\n",
       "3. 3\n",
       "\n",
       "\n"
      ],
      "text/plain": [
       "[1] 7 5 3"
      ]
     },
     "metadata": {},
     "output_type": "display_data"
    },
    {
     "data": {
      "text/html": [
       "<ol class=list-inline>\n",
       "\t<li>4</li>\n",
       "\t<li>4</li>\n",
       "\t<li>4</li>\n",
       "</ol>\n"
      ],
      "text/latex": [
       "\\begin{enumerate*}\n",
       "\\item 4\n",
       "\\item 4\n",
       "\\item 4\n",
       "\\end{enumerate*}\n"
      ],
      "text/markdown": [
       "1. 4\n",
       "2. 4\n",
       "3. 4\n",
       "\n",
       "\n"
      ],
      "text/plain": [
       "[1] 4 4 4"
      ]
     },
     "metadata": {},
     "output_type": "display_data"
    }
   ],
   "source": [
    "rep(3,3) \n",
    "rev(seq(3,7,2))\n",
    "rep(4,3)"
   ]
  },
  {
   "cell_type": "code",
   "execution_count": 22,
   "metadata": {},
   "outputs": [
    {
     "data": {
      "text/html": [
       "<ol class=list-inline>\n",
       "\t<li>3</li>\n",
       "\t<li>3</li>\n",
       "\t<li>3</li>\n",
       "\t<li>3</li>\n",
       "\t<li>5</li>\n",
       "\t<li>7</li>\n",
       "\t<li>7</li>\n",
       "\t<li>5</li>\n",
       "\t<li>3</li>\n",
       "\t<li>4</li>\n",
       "\t<li>4</li>\n",
       "\t<li>4</li>\n",
       "</ol>\n"
      ],
      "text/latex": [
       "\\begin{enumerate*}\n",
       "\\item 3\n",
       "\\item 3\n",
       "\\item 3\n",
       "\\item 3\n",
       "\\item 5\n",
       "\\item 7\n",
       "\\item 7\n",
       "\\item 5\n",
       "\\item 3\n",
       "\\item 4\n",
       "\\item 4\n",
       "\\item 4\n",
       "\\end{enumerate*}\n"
      ],
      "text/markdown": [
       "1. 3\n",
       "2. 3\n",
       "3. 3\n",
       "4. 3\n",
       "5. 5\n",
       "6. 7\n",
       "7. 7\n",
       "8. 5\n",
       "9. 3\n",
       "10. 4\n",
       "11. 4\n",
       "12. 4\n",
       "\n",
       "\n"
      ],
      "text/plain": [
       " [1] 3 3 3 3 5 7 7 5 3 4 4 4"
      ]
     },
     "metadata": {},
     "output_type": "display_data"
    },
    {
     "data": {
      "text/html": [
       "<ol class=list-inline>\n",
       "\t<li>3</li>\n",
       "\t<li>3</li>\n",
       "\t<li>3</li>\n",
       "\t<li>3</li>\n",
       "\t<li>3</li>\n",
       "\t<li>4</li>\n",
       "\t<li>4</li>\n",
       "\t<li>4</li>\n",
       "\t<li>5</li>\n",
       "\t<li>5</li>\n",
       "\t<li>7</li>\n",
       "\t<li>7</li>\n",
       "</ol>\n"
      ],
      "text/latex": [
       "\\begin{enumerate*}\n",
       "\\item 3\n",
       "\\item 3\n",
       "\\item 3\n",
       "\\item 3\n",
       "\\item 3\n",
       "\\item 4\n",
       "\\item 4\n",
       "\\item 4\n",
       "\\item 5\n",
       "\\item 5\n",
       "\\item 7\n",
       "\\item 7\n",
       "\\end{enumerate*}\n"
      ],
      "text/markdown": [
       "1. 3\n",
       "2. 3\n",
       "3. 3\n",
       "4. 3\n",
       "5. 3\n",
       "6. 4\n",
       "7. 4\n",
       "8. 4\n",
       "9. 5\n",
       "10. 5\n",
       "11. 7\n",
       "12. 7\n",
       "\n",
       "\n"
      ],
      "text/plain": [
       " [1] 3 3 3 3 3 4 4 4 5 5 7 7"
      ]
     },
     "metadata": {},
     "output_type": "display_data"
    },
    {
     "data": {
      "text/html": [
       "<ol class=list-inline>\n",
       "\t<li>3</li>\n",
       "\t<li>3</li>\n",
       "\t<li>3</li>\n",
       "\t<li>3</li>\n",
       "\t<li>9.5</li>\n",
       "\t<li>11.5</li>\n",
       "\t<li>11.5</li>\n",
       "\t<li>9.5</li>\n",
       "\t<li>3</li>\n",
       "\t<li>7</li>\n",
       "\t<li>7</li>\n",
       "\t<li>7</li>\n",
       "</ol>\n"
      ],
      "text/latex": [
       "\\begin{enumerate*}\n",
       "\\item 3\n",
       "\\item 3\n",
       "\\item 3\n",
       "\\item 3\n",
       "\\item 9.5\n",
       "\\item 11.5\n",
       "\\item 11.5\n",
       "\\item 9.5\n",
       "\\item 3\n",
       "\\item 7\n",
       "\\item 7\n",
       "\\item 7\n",
       "\\end{enumerate*}\n"
      ],
      "text/markdown": [
       "1. 3\n",
       "2. 3\n",
       "3. 3\n",
       "4. 3\n",
       "5. 9.5\n",
       "6. 11.5\n",
       "7. 11.5\n",
       "8. 9.5\n",
       "9. 3\n",
       "10. 7\n",
       "11. 7\n",
       "12. 7\n",
       "\n",
       "\n"
      ],
      "text/plain": [
       " [1]  3.0  3.0  3.0  3.0  9.5 11.5 11.5  9.5  3.0  7.0  7.0  7.0"
      ]
     },
     "metadata": {},
     "output_type": "display_data"
    },
    {
     "data": {
      "text/html": [
       "<ol class=list-inline>\n",
       "\t<li>1</li>\n",
       "\t<li>2</li>\n",
       "\t<li>3</li>\n",
       "\t<li>4</li>\n",
       "\t<li>9</li>\n",
       "\t<li>10</li>\n",
       "\t<li>11</li>\n",
       "\t<li>12</li>\n",
       "\t<li>5</li>\n",
       "\t<li>8</li>\n",
       "\t<li>6</li>\n",
       "\t<li>7</li>\n",
       "</ol>\n"
      ],
      "text/latex": [
       "\\begin{enumerate*}\n",
       "\\item 1\n",
       "\\item 2\n",
       "\\item 3\n",
       "\\item 4\n",
       "\\item 9\n",
       "\\item 10\n",
       "\\item 11\n",
       "\\item 12\n",
       "\\item 5\n",
       "\\item 8\n",
       "\\item 6\n",
       "\\item 7\n",
       "\\end{enumerate*}\n"
      ],
      "text/markdown": [
       "1. 1\n",
       "2. 2\n",
       "3. 3\n",
       "4. 4\n",
       "5. 9\n",
       "6. 10\n",
       "7. 11\n",
       "8. 12\n",
       "9. 5\n",
       "10. 8\n",
       "11. 6\n",
       "12. 7\n",
       "\n",
       "\n"
      ],
      "text/plain": [
       " [1]  1  2  3  4  9 10 11 12  5  8  6  7"
      ]
     },
     "metadata": {},
     "output_type": "display_data"
    }
   ],
   "source": [
    "x<-c(rep(3,3),seq(3,7,by=2),rev(seq(3,7,length=3)),rep(4,3))\n",
    "x\n",
    "sort(x)\n",
    "rank(x) #자료의 순위 출력 3 다섯개가 5위까지 해당하는 값을 갖기 때문에 평균값 (1-5등까지 동률이니까 평균 3을 준다)\n",
    "order(x) #원래 자료의 위치값 "
   ]
  },
  {
   "cell_type": "code",
   "execution_count": 23,
   "metadata": {},
   "outputs": [
    {
     "data": {
      "text/html": [
       "<ol class=list-inline>\n",
       "\t<li>0+0i</li>\n",
       "\t<li>0+0i</li>\n",
       "\t<li>0+0i</li>\n",
       "\t<li>0+0i</li>\n",
       "\t<li>0+0i</li>\n",
       "</ol>\n"
      ],
      "text/latex": [
       "\\begin{enumerate*}\n",
       "\\item 0+0i\n",
       "\\item 0+0i\n",
       "\\item 0+0i\n",
       "\\item 0+0i\n",
       "\\item 0+0i\n",
       "\\end{enumerate*}\n"
      ],
      "text/markdown": [
       "1. 0+0i\n",
       "2. 0+0i\n",
       "3. 0+0i\n",
       "4. 0+0i\n",
       "5. 0+0i\n",
       "\n",
       "\n"
      ],
      "text/plain": [
       "[1] 0+0i 0+0i 0+0i 0+0i 0+0i"
      ]
     },
     "metadata": {},
     "output_type": "display_data"
    },
    {
     "data": {
      "text/html": [
       "<ol class=list-inline>\n",
       "\t<li>FALSE</li>\n",
       "\t<li>FALSE</li>\n",
       "\t<li>FALSE</li>\n",
       "</ol>\n"
      ],
      "text/latex": [
       "\\begin{enumerate*}\n",
       "\\item FALSE\n",
       "\\item FALSE\n",
       "\\item FALSE\n",
       "\\end{enumerate*}\n"
      ],
      "text/markdown": [
       "1. FALSE\n",
       "2. FALSE\n",
       "3. FALSE\n",
       "\n",
       "\n"
      ],
      "text/plain": [
       "[1] FALSE FALSE FALSE"
      ]
     },
     "metadata": {},
     "output_type": "display_data"
    },
    {
     "data": {
      "text/html": [
       "<ol class=list-inline>\n",
       "\t<li>0</li>\n",
       "\t<li>0</li>\n",
       "\t<li>0</li>\n",
       "\t<li>0</li>\n",
       "</ol>\n"
      ],
      "text/latex": [
       "\\begin{enumerate*}\n",
       "\\item 0\n",
       "\\item 0\n",
       "\\item 0\n",
       "\\item 0\n",
       "\\end{enumerate*}\n"
      ],
      "text/markdown": [
       "1. 0\n",
       "2. 0\n",
       "3. 0\n",
       "4. 0\n",
       "\n",
       "\n"
      ],
      "text/plain": [
       "[1] 0 0 0 0"
      ]
     },
     "metadata": {},
     "output_type": "display_data"
    },
    {
     "data": {
      "text/html": [
       "<ol class=list-inline>\n",
       "\t<li>0+0i</li>\n",
       "\t<li>0+0i</li>\n",
       "\t<li>0+0i</li>\n",
       "\t<li>0+0i</li>\n",
       "\t<li>0+0i</li>\n",
       "</ol>\n"
      ],
      "text/latex": [
       "\\begin{enumerate*}\n",
       "\\item 0+0i\n",
       "\\item 0+0i\n",
       "\\item 0+0i\n",
       "\\item 0+0i\n",
       "\\item 0+0i\n",
       "\\end{enumerate*}\n"
      ],
      "text/markdown": [
       "1. 0+0i\n",
       "2. 0+0i\n",
       "3. 0+0i\n",
       "4. 0+0i\n",
       "5. 0+0i\n",
       "\n",
       "\n"
      ],
      "text/plain": [
       "[1] 0+0i 0+0i 0+0i 0+0i 0+0i"
      ]
     },
     "metadata": {},
     "output_type": "display_data"
    },
    {
     "data": {
      "text/html": [
       "<ol class=list-inline>\n",
       "\t<li>''</li>\n",
       "\t<li>''</li>\n",
       "\t<li>''</li>\n",
       "\t<li>''</li>\n",
       "\t<li>''</li>\n",
       "\t<li>''</li>\n",
       "</ol>\n"
      ],
      "text/latex": [
       "\\begin{enumerate*}\n",
       "\\item ''\n",
       "\\item ''\n",
       "\\item ''\n",
       "\\item ''\n",
       "\\item ''\n",
       "\\item ''\n",
       "\\end{enumerate*}\n"
      ],
      "text/markdown": [
       "1. ''\n",
       "2. ''\n",
       "3. ''\n",
       "4. ''\n",
       "5. ''\n",
       "6. ''\n",
       "\n",
       "\n"
      ],
      "text/plain": [
       "[1] \"\" \"\" \"\" \"\" \"\" \"\""
      ]
     },
     "metadata": {},
     "output_type": "display_data"
    }
   ],
   "source": [
    "vector(\"complex\",5) #벡터로 초기화\n",
    "logical(3) #logical 벡터로 초기화\n",
    "numeric(4) #numeric 벡터로 초기화\n",
    "complex(5) #complex 벡터로 초기화\n",
    "character(6) #character 벡터로 초기화"
   ]
  },
  {
   "cell_type": "markdown",
   "metadata": {},
   "source": [
    "#행렬"
   ]
  },
  {
   "cell_type": "code",
   "execution_count": 24,
   "metadata": {},
   "outputs": [
    {
     "data": {
      "text/html": [
       "<table>\n",
       "<tbody>\n",
       "\t<tr><td>1</td><td>4</td><td>7</td></tr>\n",
       "\t<tr><td>2</td><td>5</td><td>8</td></tr>\n",
       "\t<tr><td>3</td><td>6</td><td>9</td></tr>\n",
       "</tbody>\n",
       "</table>\n"
      ],
      "text/latex": [
       "\\begin{tabular}{lll}\n",
       "\t 1 & 4 & 7\\\\\n",
       "\t 2 & 5 & 8\\\\\n",
       "\t 3 & 6 & 9\\\\\n",
       "\\end{tabular}\n"
      ],
      "text/markdown": [
       "\n",
       "| 1 | 4 | 7 |\n",
       "| 2 | 5 | 8 |\n",
       "| 3 | 6 | 9 |\n",
       "\n"
      ],
      "text/plain": [
       "     [,1] [,2] [,3]\n",
       "[1,] 1    4    7   \n",
       "[2,] 2    5    8   \n",
       "[3,] 3    6    9   "
      ]
     },
     "metadata": {},
     "output_type": "display_data"
    }
   ],
   "source": [
    "matr <-matrix(1:9,nrow=3)#3행 3열 행렬 생성\n",
    "matr"
   ]
  },
  {
   "cell_type": "code",
   "execution_count": 25,
   "metadata": {},
   "outputs": [
    {
     "data": {
      "text/html": [
       "9"
      ],
      "text/latex": [
       "9"
      ],
      "text/markdown": [
       "9"
      ],
      "text/plain": [
       "[1] 9"
      ]
     },
     "metadata": {},
     "output_type": "display_data"
    },
    {
     "data": {
      "text/html": [
       "'numeric'"
      ],
      "text/latex": [
       "'numeric'"
      ],
      "text/markdown": [
       "'numeric'"
      ],
      "text/plain": [
       "[1] \"numeric\""
      ]
     },
     "metadata": {},
     "output_type": "display_data"
    },
    {
     "data": {
      "text/html": [
       "<ol class=list-inline>\n",
       "\t<li>3</li>\n",
       "\t<li>3</li>\n",
       "</ol>\n"
      ],
      "text/latex": [
       "\\begin{enumerate*}\n",
       "\\item 3\n",
       "\\item 3\n",
       "\\end{enumerate*}\n"
      ],
      "text/markdown": [
       "1. 3\n",
       "2. 3\n",
       "\n",
       "\n"
      ],
      "text/plain": [
       "[1] 3 3"
      ]
     },
     "metadata": {},
     "output_type": "display_data"
    }
   ],
   "source": [
    "length(matr)#원소 개수\n",
    "mode(matr) #원소 형태\n",
    "dim(matr) #행과 열의 개수"
   ]
  },
  {
   "cell_type": "markdown",
   "metadata": {},
   "source": [
    "#matrix(data,nrow=,ncol=,byrow=FALSE, dimnames=NULL)\n",
    "#cbind(벡터1,벡터2) 또는 rbind(벡터1,벡터2)\n",
    "#dim(x) <-c(행의 개수, 열의 개수)"
   ]
  },
  {
   "cell_type": "code",
   "execution_count": 27,
   "metadata": {},
   "outputs": [
    {
     "data": {
      "text/html": [
       "<table>\n",
       "<tbody>\n",
       "\t<tr><th scope=row>r1</th><td>1</td><td>2</td><td>3</td></tr>\n",
       "\t<tr><th scope=row>r2</th><td>4</td><td>5</td><td>6</td></tr>\n",
       "\t<tr><th scope=row>r3</th><td>7</td><td>8</td><td>9</td></tr>\n",
       "</tbody>\n",
       "</table>\n"
      ],
      "text/latex": [
       "\\begin{tabular}{r|lll}\n",
       "\tr1 & 1 & 2 & 3\\\\\n",
       "\tr2 & 4 & 5 & 6\\\\\n",
       "\tr3 & 7 & 8 & 9\\\\\n",
       "\\end{tabular}\n"
      ],
      "text/markdown": [
       "\n",
       "| r1 | 1 | 2 | 3 |\n",
       "| r2 | 4 | 5 | 6 |\n",
       "| r3 | 7 | 8 | 9 |\n",
       "\n"
      ],
      "text/plain": [
       "   [,1] [,2] [,3]\n",
       "r1 1    2    3   \n",
       "r2 4    5    6   \n",
       "r3 7    8    9   "
      ]
     },
     "metadata": {},
     "output_type": "display_data"
    }
   ],
   "source": [
    "r1<-c(1,2,3)\n",
    "r2<-c(4,5,6)\n",
    "r3<-c(7,8,9)\n",
    "rbind(r1,r2,r3)"
   ]
  },
  {
   "cell_type": "code",
   "execution_count": 28,
   "metadata": {},
   "outputs": [
    {
     "data": {
      "text/html": [
       "<table>\n",
       "<thead><tr><th scope=col>c1</th><th scope=col>c2</th><th scope=col>c3</th></tr></thead>\n",
       "<tbody>\n",
       "\t<tr><td>1</td><td>4</td><td>7</td></tr>\n",
       "\t<tr><td>2</td><td>5</td><td>8</td></tr>\n",
       "\t<tr><td>3</td><td>6</td><td>9</td></tr>\n",
       "</tbody>\n",
       "</table>\n"
      ],
      "text/latex": [
       "\\begin{tabular}{lll}\n",
       " c1 & c2 & c3\\\\\n",
       "\\hline\n",
       "\t 1 & 4 & 7\\\\\n",
       "\t 2 & 5 & 8\\\\\n",
       "\t 3 & 6 & 9\\\\\n",
       "\\end{tabular}\n"
      ],
      "text/markdown": [
       "\n",
       "| c1 | c2 | c3 |\n",
       "|---|---|---|\n",
       "| 1 | 4 | 7 |\n",
       "| 2 | 5 | 8 |\n",
       "| 3 | 6 | 9 |\n",
       "\n"
      ],
      "text/plain": [
       "     c1 c2 c3\n",
       "[1,] 1  4  7 \n",
       "[2,] 2  5  8 \n",
       "[3,] 3  6  9 "
      ]
     },
     "metadata": {},
     "output_type": "display_data"
    }
   ],
   "source": [
    "c1 <- c(1:3)\n",
    "c2 <- c(4:6)\n",
    "c3 <- c(7:9)\n",
    "cbind(c1,c2,c3) #열을 기준으로 경합"
   ]
  },
  {
   "cell_type": "code",
   "execution_count": 30,
   "metadata": {},
   "outputs": [
    {
     "data": {
      "text/html": [
       "<table>\n",
       "<tbody>\n",
       "\t<tr><td>1</td><td>4</td><td>7</td></tr>\n",
       "\t<tr><td>2</td><td>5</td><td>8</td></tr>\n",
       "\t<tr><td>3</td><td>6</td><td>9</td></tr>\n",
       "</tbody>\n",
       "</table>\n"
      ],
      "text/latex": [
       "\\begin{tabular}{lll}\n",
       "\t 1 & 4 & 7\\\\\n",
       "\t 2 & 5 & 8\\\\\n",
       "\t 3 & 6 & 9\\\\\n",
       "\\end{tabular}\n"
      ],
      "text/markdown": [
       "\n",
       "| 1 | 4 | 7 |\n",
       "| 2 | 5 | 8 |\n",
       "| 3 | 6 | 9 |\n",
       "\n"
      ],
      "text/plain": [
       "     [,1] [,2] [,3]\n",
       "[1,] 1    4    7   \n",
       "[2,] 2    5    8   \n",
       "[3,] 3    6    9   "
      ]
     },
     "metadata": {},
     "output_type": "display_data"
    }
   ],
   "source": [
    "m1 <- 1:9\n",
    "dim(m1)<-c(3,3) #dim:차원 지정\n",
    "m1"
   ]
  },
  {
   "cell_type": "markdown",
   "metadata": {},
   "source": [
    "#행렬의 연산 \n",
    "[]를 이용하여 행렬의 일부 원소를 추출\n",
    "apply(행렬, 조건,fun) 함수를 이용한 행 또는 열의 연산\n",
    "sweep(행렬, 조건,stats, fun=) 함수를 이용한 연산"
   ]
  },
  {
   "cell_type": "code",
   "execution_count": 32,
   "metadata": {},
   "outputs": [
    {
     "data": {
      "text/html": [
       "<table>\n",
       "<tbody>\n",
       "\t<tr><td>1</td><td>4</td><td>7</td></tr>\n",
       "\t<tr><td>2</td><td>5</td><td>8</td></tr>\n",
       "\t<tr><td>3</td><td>6</td><td>9</td></tr>\n",
       "</tbody>\n",
       "</table>\n"
      ],
      "text/latex": [
       "\\begin{tabular}{lll}\n",
       "\t 1 & 4 & 7\\\\\n",
       "\t 2 & 5 & 8\\\\\n",
       "\t 3 & 6 & 9\\\\\n",
       "\\end{tabular}\n"
      ],
      "text/markdown": [
       "\n",
       "| 1 | 4 | 7 |\n",
       "| 2 | 5 | 8 |\n",
       "| 3 | 6 | 9 |\n",
       "\n"
      ],
      "text/plain": [
       "     [,1] [,2] [,3]\n",
       "[1,] 1    4    7   \n",
       "[2,] 2    5    8   \n",
       "[3,] 3    6    9   "
      ]
     },
     "metadata": {},
     "output_type": "display_data"
    }
   ],
   "source": [
    "x1 <- 1:9\n",
    "dim(x1) <-c(3,3)\n",
    "x1"
   ]
  },
  {
   "cell_type": "code",
   "execution_count": 33,
   "metadata": {},
   "outputs": [
    {
     "data": {
      "text/html": [
       "<table>\n",
       "<tbody>\n",
       "\t<tr><td>1</td><td>2</td><td>3</td></tr>\n",
       "\t<tr><td>4</td><td>5</td><td>6</td></tr>\n",
       "\t<tr><td>7</td><td>8</td><td>9</td></tr>\n",
       "</tbody>\n",
       "</table>\n"
      ],
      "text/latex": [
       "\\begin{tabular}{lll}\n",
       "\t 1 & 2 & 3\\\\\n",
       "\t 4 & 5 & 6\\\\\n",
       "\t 7 & 8 & 9\\\\\n",
       "\\end{tabular}\n"
      ],
      "text/markdown": [
       "\n",
       "| 1 | 2 | 3 |\n",
       "| 4 | 5 | 6 |\n",
       "| 7 | 8 | 9 |\n",
       "\n"
      ],
      "text/plain": [
       "     [,1] [,2] [,3]\n",
       "[1,] 1    2    3   \n",
       "[2,] 4    5    6   \n",
       "[3,] 7    8    9   "
      ]
     },
     "metadata": {},
     "output_type": "display_data"
    }
   ],
   "source": [
    "mat <-matrix(c(1:9),ncol=3,byrow=T) #byrow=T 를 줌으로써 행 기준 3열의 행렬 생성 (디폴트는 열 방향)\n",
    "mat"
   ]
  },
  {
   "cell_type": "code",
   "execution_count": 34,
   "metadata": {
    "scrolled": true
   },
   "outputs": [
    {
     "data": {
      "text/html": [
       "<ol class=list-inline>\n",
       "\t<li>1</li>\n",
       "\t<li>2</li>\n",
       "\t<li>3</li>\n",
       "</ol>\n"
      ],
      "text/latex": [
       "\\begin{enumerate*}\n",
       "\\item 1\n",
       "\\item 2\n",
       "\\item 3\n",
       "\\end{enumerate*}\n"
      ],
      "text/markdown": [
       "1. 1\n",
       "2. 2\n",
       "3. 3\n",
       "\n",
       "\n"
      ],
      "text/plain": [
       "[1] 1 2 3"
      ]
     },
     "metadata": {},
     "output_type": "display_data"
    },
    {
     "data": {
      "text/html": [
       "<ol class=list-inline>\n",
       "\t<li>2</li>\n",
       "\t<li>5</li>\n",
       "\t<li>8</li>\n",
       "</ol>\n"
      ],
      "text/latex": [
       "\\begin{enumerate*}\n",
       "\\item 2\n",
       "\\item 5\n",
       "\\item 8\n",
       "\\end{enumerate*}\n"
      ],
      "text/markdown": [
       "1. 2\n",
       "2. 5\n",
       "3. 8\n",
       "\n",
       "\n"
      ],
      "text/plain": [
       "[1] 2 5 8"
      ]
     },
     "metadata": {},
     "output_type": "display_data"
    },
    {
     "data": {
      "text/html": [
       "<ol class=list-inline>\n",
       "\t<li>5</li>\n",
       "\t<li>8</li>\n",
       "</ol>\n"
      ],
      "text/latex": [
       "\\begin{enumerate*}\n",
       "\\item 5\n",
       "\\item 8\n",
       "\\end{enumerate*}\n"
      ],
      "text/markdown": [
       "1. 5\n",
       "2. 8\n",
       "\n",
       "\n"
      ],
      "text/plain": [
       "[1] 5 8"
      ]
     },
     "metadata": {},
     "output_type": "display_data"
    },
    {
     "data": {
      "text/html": [
       "6"
      ],
      "text/latex": [
       "6"
      ],
      "text/markdown": [
       "6"
      ],
      "text/plain": [
       "[1] 6"
      ]
     },
     "metadata": {},
     "output_type": "display_data"
    }
   ],
   "source": [
    "mat[1,] #1행의 값\n",
    "mat[,2] #2열의 값\n",
    "mat[mat[,3]>4,2] #3열에서 4보다 큰 행의 값 중 2열의 모든 값\n",
    "mat[2,3] #2행 3열의 값 추출"
   ]
  },
  {
   "cell_type": "code",
   "execution_count": 39,
   "metadata": {},
   "outputs": [],
   "source": [
    "height <-c(140, 155, 142, 175)\n",
    "size.1 <- matrix(c(130,26,110,24,118,25,112,25), ncol=2, byrow=T,dimnames=list(c(\"Lee\",\"Kim\",\"Park\",\"Choi\"), c(\"Weight\",\"Waist\")))\n",
    "size.1 <- cbind(size.1, height) #열 기준 결합"
   ]
  },
  {
   "cell_type": "code",
   "execution_count": 40,
   "metadata": {},
   "outputs": [
    {
     "data": {
      "text/html": [
       "<dl class=dl-horizontal>\n",
       "\t<dt>Weight</dt>\n",
       "\t\t<dd>117.5</dd>\n",
       "\t<dt>Waist</dt>\n",
       "\t\t<dd>25</dd>\n",
       "\t<dt>height</dt>\n",
       "\t\t<dd>153</dd>\n",
       "</dl>\n"
      ],
      "text/latex": [
       "\\begin{description*}\n",
       "\\item[Weight] 117.5\n",
       "\\item[Waist] 25\n",
       "\\item[height] 153\n",
       "\\end{description*}\n"
      ],
      "text/markdown": [
       "Weight\n",
       ":   117.5Waist\n",
       ":   25height\n",
       ":   153\n",
       "\n"
      ],
      "text/plain": [
       "Weight  Waist height \n",
       " 117.5   25.0  153.0 "
      ]
     },
     "metadata": {},
     "output_type": "display_data"
    }
   ],
   "source": [
    "colmean <- apply(size.1,2,mean) #2: 열평균 계산\n",
    "colmean"
   ]
  },
  {
   "cell_type": "code",
   "execution_count": 41,
   "metadata": {},
   "outputs": [
    {
     "data": {
      "text/html": [
       "<dl class=dl-horizontal>\n",
       "\t<dt>Lee</dt>\n",
       "\t\t<dd>98.6666666666667</dd>\n",
       "\t<dt>Kim</dt>\n",
       "\t\t<dd>96.3333333333333</dd>\n",
       "\t<dt>Park</dt>\n",
       "\t\t<dd>95</dd>\n",
       "\t<dt>Choi</dt>\n",
       "\t\t<dd>104</dd>\n",
       "</dl>\n"
      ],
      "text/latex": [
       "\\begin{description*}\n",
       "\\item[Lee] 98.6666666666667\n",
       "\\item[Kim] 96.3333333333333\n",
       "\\item[Park] 95\n",
       "\\item[Choi] 104\n",
       "\\end{description*}\n"
      ],
      "text/markdown": [
       "Lee\n",
       ":   98.6666666666667Kim\n",
       ":   96.3333333333333Park\n",
       ":   95Choi\n",
       ":   104\n",
       "\n"
      ],
      "text/plain": [
       "      Lee       Kim      Park      Choi \n",
       " 98.66667  96.33333  95.00000 104.00000 "
      ]
     },
     "metadata": {},
     "output_type": "display_data"
    }
   ],
   "source": [
    "rowmean <- apply(size.1,1,mean) #행평균 계산\n",
    "rowmean"
   ]
  },
  {
   "cell_type": "code",
   "execution_count": 42,
   "metadata": {},
   "outputs": [
    {
     "data": {
      "text/html": [
       "<dl class=dl-horizontal>\n",
       "\t<dt>Weight</dt>\n",
       "\t\t<dd>81</dd>\n",
       "\t<dt>Waist</dt>\n",
       "\t\t<dd>0.666666666666667</dd>\n",
       "\t<dt>height</dt>\n",
       "\t\t<dd>259.333333333333</dd>\n",
       "</dl>\n"
      ],
      "text/latex": [
       "\\begin{description*}\n",
       "\\item[Weight] 81\n",
       "\\item[Waist] 0.666666666666667\n",
       "\\item[height] 259.333333333333\n",
       "\\end{description*}\n"
      ],
      "text/markdown": [
       "Weight\n",
       ":   81Waist\n",
       ":   0.666666666666667height\n",
       ":   259.333333333333\n",
       "\n"
      ],
      "text/plain": [
       "     Weight       Waist      height \n",
       " 81.0000000   0.6666667 259.3333333 "
      ]
     },
     "metadata": {},
     "output_type": "display_data"
    }
   ],
   "source": [
    "colvar <- apply(size.1,2,var) #열의 분산값 계산\n",
    "colvar"
   ]
  },
  {
   "cell_type": "code",
   "execution_count": 43,
   "metadata": {},
   "outputs": [
    {
     "data": {
      "text/html": [
       "<dl class=dl-horizontal>\n",
       "\t<dt>Lee</dt>\n",
       "\t\t<dd>3985.33333333333</dd>\n",
       "\t<dt>Kim</dt>\n",
       "\t\t<dd>4430.33333333333</dd>\n",
       "\t<dt>Park</dt>\n",
       "\t\t<dd>3819</dd>\n",
       "\t<dt>Choi</dt>\n",
       "\t\t<dd>5673</dd>\n",
       "</dl>\n"
      ],
      "text/latex": [
       "\\begin{description*}\n",
       "\\item[Lee] 3985.33333333333\n",
       "\\item[Kim] 4430.33333333333\n",
       "\\item[Park] 3819\n",
       "\\item[Choi] 5673\n",
       "\\end{description*}\n"
      ],
      "text/markdown": [
       "Lee\n",
       ":   3985.33333333333Kim\n",
       ":   4430.33333333333Park\n",
       ":   3819Choi\n",
       ":   5673\n",
       "\n"
      ],
      "text/plain": [
       "     Lee      Kim     Park     Choi \n",
       "3985.333 4430.333 3819.000 5673.000 "
      ]
     },
     "metadata": {},
     "output_type": "display_data"
    }
   ],
   "source": [
    "rowvar <- apply(size.1,1,var) #행의 분산값 계산\n",
    "rowvar"
   ]
  },
  {
   "cell_type": "code",
   "execution_count": 44,
   "metadata": {},
   "outputs": [
    {
     "data": {
      "text/html": [
       "<table>\n",
       "<thead><tr><th></th><th scope=col>Weight</th><th scope=col>Waist</th><th scope=col>height</th></tr></thead>\n",
       "<tbody>\n",
       "\t<tr><th scope=row>Lee</th><td>12.5</td><td> 1  </td><td>-13 </td></tr>\n",
       "\t<tr><th scope=row>Kim</th><td>-7.5</td><td>-1  </td><td>  2 </td></tr>\n",
       "\t<tr><th scope=row>Park</th><td> 0.5</td><td> 0  </td><td>-11 </td></tr>\n",
       "\t<tr><th scope=row>Choi</th><td>-5.5</td><td> 0  </td><td> 22 </td></tr>\n",
       "</tbody>\n",
       "</table>\n"
      ],
      "text/latex": [
       "\\begin{tabular}{r|lll}\n",
       "  & Weight & Waist & height\\\\\n",
       "\\hline\n",
       "\tLee & 12.5 &  1   & -13 \\\\\n",
       "\tKim & -7.5 & -1   &   2 \\\\\n",
       "\tPark &  0.5 &  0   & -11 \\\\\n",
       "\tChoi & -5.5 &  0   &  22 \\\\\n",
       "\\end{tabular}\n"
      ],
      "text/markdown": [
       "\n",
       "| <!--/--> | Weight | Waist | height |\n",
       "|---|---|---|---|\n",
       "| Lee | 12.5 |  1   | -13  |\n",
       "| Kim | -7.5 | -1   |   2  |\n",
       "| Park |  0.5 |  0   | -11  |\n",
       "| Choi | -5.5 |  0   |  22  |\n",
       "\n"
      ],
      "text/plain": [
       "     Weight Waist height\n",
       "Lee  12.5    1    -13   \n",
       "Kim  -7.5   -1      2   \n",
       "Park  0.5    0    -11   \n",
       "Choi -5.5    0     22   "
      ]
     },
     "metadata": {},
     "output_type": "display_data"
    }
   ],
   "source": [
    "sweep(size.1,2,colmean) #size 각 열의 값과 colmean 의 차 기본연산은 빼기로 되어 있음"
   ]
  },
  {
   "cell_type": "code",
   "execution_count": 46,
   "metadata": {},
   "outputs": [
    {
     "data": {
      "text/html": [
       "<table>\n",
       "<thead><tr><th></th><th scope=col>Weight</th><th scope=col>Waist</th><th scope=col>height</th></tr></thead>\n",
       "<tbody>\n",
       "\t<tr><th scope=row>Lee</th><td>31.33333 </td><td>-72.66667</td><td>41.33333 </td></tr>\n",
       "\t<tr><th scope=row>Kim</th><td>13.66667 </td><td>-72.33333</td><td>58.66667 </td></tr>\n",
       "\t<tr><th scope=row>Park</th><td>23.00000 </td><td>-70.00000</td><td>47.00000 </td></tr>\n",
       "\t<tr><th scope=row>Choi</th><td> 8.00000 </td><td>-79.00000</td><td>71.00000 </td></tr>\n",
       "</tbody>\n",
       "</table>\n"
      ],
      "text/latex": [
       "\\begin{tabular}{r|lll}\n",
       "  & Weight & Waist & height\\\\\n",
       "\\hline\n",
       "\tLee & 31.33333  & -72.66667 & 41.33333 \\\\\n",
       "\tKim & 13.66667  & -72.33333 & 58.66667 \\\\\n",
       "\tPark & 23.00000  & -70.00000 & 47.00000 \\\\\n",
       "\tChoi &  8.00000  & -79.00000 & 71.00000 \\\\\n",
       "\\end{tabular}\n"
      ],
      "text/markdown": [
       "\n",
       "| <!--/--> | Weight | Waist | height |\n",
       "|---|---|---|---|\n",
       "| Lee | 31.33333  | -72.66667 | 41.33333  |\n",
       "| Kim | 13.66667  | -72.33333 | 58.66667  |\n",
       "| Park | 23.00000  | -70.00000 | 47.00000  |\n",
       "| Choi |  8.00000  | -79.00000 | 71.00000  |\n",
       "\n"
      ],
      "text/plain": [
       "     Weight   Waist     height  \n",
       "Lee  31.33333 -72.66667 41.33333\n",
       "Kim  13.66667 -72.33333 58.66667\n",
       "Park 23.00000 -70.00000 47.00000\n",
       "Choi  8.00000 -79.00000 71.00000"
      ]
     },
     "metadata": {},
     "output_type": "display_data"
    }
   ],
   "source": [
    "sweep(size.1,1,rowmean) #size 각 행의 값과 rowmean 의 차"
   ]
  },
  {
   "cell_type": "code",
   "execution_count": 47,
   "metadata": {},
   "outputs": [
    {
     "data": {
      "text/html": [
       "<table>\n",
       "<thead><tr><th></th><th scope=col>Weight</th><th scope=col>Waist</th><th scope=col>height</th></tr></thead>\n",
       "<tbody>\n",
       "\t<tr><th scope=row>Lee</th><td>131</td><td>27 </td><td>141</td></tr>\n",
       "\t<tr><th scope=row>Kim</th><td>112</td><td>26 </td><td>157</td></tr>\n",
       "\t<tr><th scope=row>Park</th><td>121</td><td>28 </td><td>145</td></tr>\n",
       "\t<tr><th scope=row>Choi</th><td>116</td><td>29 </td><td>179</td></tr>\n",
       "</tbody>\n",
       "</table>\n"
      ],
      "text/latex": [
       "\\begin{tabular}{r|lll}\n",
       "  & Weight & Waist & height\\\\\n",
       "\\hline\n",
       "\tLee & 131 & 27  & 141\\\\\n",
       "\tKim & 112 & 26  & 157\\\\\n",
       "\tPark & 121 & 28  & 145\\\\\n",
       "\tChoi & 116 & 29  & 179\\\\\n",
       "\\end{tabular}\n"
      ],
      "text/markdown": [
       "\n",
       "| <!--/--> | Weight | Waist | height |\n",
       "|---|---|---|---|\n",
       "| Lee | 131 | 27  | 141 |\n",
       "| Kim | 112 | 26  | 157 |\n",
       "| Park | 121 | 28  | 145 |\n",
       "| Choi | 116 | 29  | 179 |\n",
       "\n"
      ],
      "text/plain": [
       "     Weight Waist height\n",
       "Lee  131    27    141   \n",
       "Kim  112    26    157   \n",
       "Park 121    28    145   \n",
       "Choi 116    29    179   "
      ]
     },
     "metadata": {},
     "output_type": "display_data"
    }
   ],
   "source": [
    "sweep(size.1,1,c(1,2,3,4), \"+\") #각 행의 값에 c(1,2,3,4)값을 더해줌"
   ]
  },
  {
   "cell_type": "code",
   "execution_count": 48,
   "metadata": {},
   "outputs": [
    {
     "data": {
      "text/html": [
       "<table>\n",
       "<thead><tr><th></th><th scope=col>Weight</th><th scope=col>Waist</th><th scope=col>height</th></tr></thead>\n",
       "<tbody>\n",
       "\t<tr><th scope=row>Lee</th><td>129</td><td>25 </td><td>139</td></tr>\n",
       "\t<tr><th scope=row>Kim</th><td>108</td><td>22 </td><td>153</td></tr>\n",
       "\t<tr><th scope=row>Park</th><td>115</td><td>22 </td><td>139</td></tr>\n",
       "\t<tr><th scope=row>Choi</th><td>108</td><td>21 </td><td>171</td></tr>\n",
       "</tbody>\n",
       "</table>\n"
      ],
      "text/latex": [
       "\\begin{tabular}{r|lll}\n",
       "  & Weight & Waist & height\\\\\n",
       "\\hline\n",
       "\tLee & 129 & 25  & 139\\\\\n",
       "\tKim & 108 & 22  & 153\\\\\n",
       "\tPark & 115 & 22  & 139\\\\\n",
       "\tChoi & 108 & 21  & 171\\\\\n",
       "\\end{tabular}\n"
      ],
      "text/markdown": [
       "\n",
       "| <!--/--> | Weight | Waist | height |\n",
       "|---|---|---|---|\n",
       "| Lee | 129 | 25  | 139 |\n",
       "| Kim | 108 | 22  | 153 |\n",
       "| Park | 115 | 22  | 139 |\n",
       "| Choi | 108 | 21  | 171 |\n",
       "\n"
      ],
      "text/plain": [
       "     Weight Waist height\n",
       "Lee  129    25    139   \n",
       "Kim  108    22    153   \n",
       "Park 115    22    139   \n",
       "Choi 108    21    171   "
      ]
     },
     "metadata": {},
     "output_type": "display_data"
    }
   ],
   "source": [
    "sweep(size.1,1,c(1,2,3,4),\"-\") #각 행에서 빼줌"
   ]
  },
  {
   "cell_type": "markdown",
   "metadata": {},
   "source": [
    "행렬 연산 관련 함수 \n",
    "t 전치행렬 t(a) %*$행렬 곱 crossprod t(A)%*%B outer(A,B) 외적 svd(A) singular value 분해 qr(A) QR 분해 solve(A,B) 방정식의 해 solve(A) 역행렬 eigen(A) 고유치와 고유벡터 chol(A) choleski 분해함수 "
   ]
  },
  {
   "cell_type": "code",
   "execution_count": 49,
   "metadata": {},
   "outputs": [
    {
     "data": {
      "text/html": [
       "<table>\n",
       "<tbody>\n",
       "\t<tr><td>1</td><td>3</td></tr>\n",
       "\t<tr><td>2</td><td>4</td></tr>\n",
       "</tbody>\n",
       "</table>\n"
      ],
      "text/latex": [
       "\\begin{tabular}{ll}\n",
       "\t 1 & 3\\\\\n",
       "\t 2 & 4\\\\\n",
       "\\end{tabular}\n"
      ],
      "text/markdown": [
       "\n",
       "| 1 | 3 |\n",
       "| 2 | 4 |\n",
       "\n"
      ],
      "text/plain": [
       "     [,1] [,2]\n",
       "[1,] 1    3   \n",
       "[2,] 2    4   "
      ]
     },
     "metadata": {},
     "output_type": "display_data"
    }
   ],
   "source": [
    "m1 <- matrix(1:4, nrow=2) \n",
    "m1"
   ]
  },
  {
   "cell_type": "code",
   "execution_count": 51,
   "metadata": {},
   "outputs": [
    {
     "data": {
      "text/html": [
       "<table>\n",
       "<tbody>\n",
       "\t<tr><td>5</td><td>7</td></tr>\n",
       "\t<tr><td>6</td><td>8</td></tr>\n",
       "</tbody>\n",
       "</table>\n"
      ],
      "text/latex": [
       "\\begin{tabular}{ll}\n",
       "\t 5 & 7\\\\\n",
       "\t 6 & 8\\\\\n",
       "\\end{tabular}\n"
      ],
      "text/markdown": [
       "\n",
       "| 5 | 7 |\n",
       "| 6 | 8 |\n",
       "\n"
      ],
      "text/plain": [
       "     [,1] [,2]\n",
       "[1,] 5    7   \n",
       "[2,] 6    8   "
      ]
     },
     "metadata": {},
     "output_type": "display_data"
    }
   ],
   "source": [
    "m2 <- matrix(5:8, nrow=2)\n",
    "m2"
   ]
  },
  {
   "cell_type": "code",
   "execution_count": 52,
   "metadata": {},
   "outputs": [
    {
     "data": {
      "text/html": [
       "<table>\n",
       "<tbody>\n",
       "\t<tr><td>23</td><td>31</td></tr>\n",
       "\t<tr><td>34</td><td>46</td></tr>\n",
       "</tbody>\n",
       "</table>\n"
      ],
      "text/latex": [
       "\\begin{tabular}{ll}\n",
       "\t 23 & 31\\\\\n",
       "\t 34 & 46\\\\\n",
       "\\end{tabular}\n"
      ],
      "text/markdown": [
       "\n",
       "| 23 | 31 |\n",
       "| 34 | 46 |\n",
       "\n"
      ],
      "text/plain": [
       "     [,1] [,2]\n",
       "[1,] 23   31  \n",
       "[2,] 34   46  "
      ]
     },
     "metadata": {},
     "output_type": "display_data"
    }
   ],
   "source": [
    "m1%*%m2"
   ]
  },
  {
   "cell_type": "code",
   "execution_count": 53,
   "metadata": {},
   "outputs": [
    {
     "data": {
      "text/html": [
       "<table>\n",
       "<tbody>\n",
       "\t<tr><td>-2  </td><td> 1.5</td></tr>\n",
       "\t<tr><td> 1  </td><td>-0.5</td></tr>\n",
       "</tbody>\n",
       "</table>\n"
      ],
      "text/latex": [
       "\\begin{tabular}{ll}\n",
       "\t -2   &  1.5\\\\\n",
       "\t  1   & -0.5\\\\\n",
       "\\end{tabular}\n"
      ],
      "text/markdown": [
       "\n",
       "| -2   |  1.5 |\n",
       "|  1   | -0.5 |\n",
       "\n"
      ],
      "text/plain": [
       "     [,1] [,2]\n",
       "[1,] -2    1.5\n",
       "[2,]  1   -0.5"
      ]
     },
     "metadata": {},
     "output_type": "display_data"
    }
   ],
   "source": [
    "solve(m1) #역행렬"
   ]
  },
  {
   "cell_type": "code",
   "execution_count": 54,
   "metadata": {},
   "outputs": [
    {
     "data": {
      "text/html": [
       "<table>\n",
       "<tbody>\n",
       "\t<tr><td>1</td><td>2</td></tr>\n",
       "\t<tr><td>3</td><td>4</td></tr>\n",
       "</tbody>\n",
       "</table>\n"
      ],
      "text/latex": [
       "\\begin{tabular}{ll}\n",
       "\t 1 & 2\\\\\n",
       "\t 3 & 4\\\\\n",
       "\\end{tabular}\n"
      ],
      "text/markdown": [
       "\n",
       "| 1 | 2 |\n",
       "| 3 | 4 |\n",
       "\n"
      ],
      "text/plain": [
       "     [,1] [,2]\n",
       "[1,] 1    2   \n",
       "[2,] 3    4   "
      ]
     },
     "metadata": {},
     "output_type": "display_data"
    }
   ],
   "source": [
    "t(m1) #m1의 전치행렬 - 행과 열을 바꾼다 "
   ]
  },
  {
   "cell_type": "markdown",
   "metadata": {},
   "source": [
    "#데이터구조(2)"
   ]
  },
  {
   "cell_type": "code",
   "execution_count": null,
   "metadata": {},
   "outputs": [],
   "source": [
    "arr <- array(1:24, dim=c(3,3,2)) #mnatrix 에서는 행렬 숫자가 딱 맞아야 되는데 array 는 좀 더 융통성 있음 \n",
    "arr\n",
    "dimnames(arr) <- list(paste(\"row\", c(1:3)),paste(\"col\",c(1:3)),paste(\"ar\",c(1:2)))#각 차원의 이름을 지정\n",
    "arr \n",
    "length(arr) #자료 개수 확인\n",
    "mode(arr) #각 차원 벡터의 크기\n",
    "dimnames(arr) #각 차원 리스트의 이름 "
   ]
  },
  {
   "cell_type": "markdown",
   "metadata": {},
   "source": [
    "배열은 행렬의 확장으로 기본적인 성질이 행렬과 유사 \n",
    "array(data, dim=c(행 개수, 열 개수, 행렬 개수, dim.names=NULL)\n",
    "dim(x) <-c(행의 개수, 열의 개수, 행렬의 개수)"
   ]
  },
  {
   "cell_type": "code",
   "execution_count": 73,
   "metadata": {},
   "outputs": [
    {
     "data": {
      "text/html": [
       "<ol class=list-inline>\n",
       "\t<li>1</li>\n",
       "\t<li>2</li>\n",
       "\t<li>3</li>\n",
       "\t<li>4</li>\n",
       "\t<li>5</li>\n",
       "\t<li>6</li>\n",
       "</ol>\n"
      ],
      "text/latex": [
       "\\begin{enumerate*}\n",
       "\\item 1\n",
       "\\item 2\n",
       "\\item 3\n",
       "\\item 4\n",
       "\\item 5\n",
       "\\item 6\n",
       "\\end{enumerate*}\n"
      ],
      "text/markdown": [
       "1. 1\n",
       "2. 2\n",
       "3. 3\n",
       "4. 4\n",
       "5. 5\n",
       "6. 6\n",
       "\n",
       "\n"
      ],
      "text/plain": [
       "[1] 1 2 3 4 5 6"
      ]
     },
     "metadata": {},
     "output_type": "display_data"
    }
   ],
   "source": [
    "array(1:6)"
   ]
  },
  {
   "cell_type": "code",
   "execution_count": 74,
   "metadata": {},
   "outputs": [
    {
     "data": {
      "text/html": [
       "<table>\n",
       "<tbody>\n",
       "\t<tr><td>1</td><td>3</td><td>5</td></tr>\n",
       "\t<tr><td>2</td><td>4</td><td>6</td></tr>\n",
       "</tbody>\n",
       "</table>\n"
      ],
      "text/latex": [
       "\\begin{tabular}{lll}\n",
       "\t 1 & 3 & 5\\\\\n",
       "\t 2 & 4 & 6\\\\\n",
       "\\end{tabular}\n"
      ],
      "text/markdown": [
       "\n",
       "| 1 | 3 | 5 |\n",
       "| 2 | 4 | 6 |\n",
       "\n"
      ],
      "text/plain": [
       "     [,1] [,2] [,3]\n",
       "[1,] 1    3    5   \n",
       "[2,] 2    4    6   "
      ]
     },
     "metadata": {},
     "output_type": "display_data"
    }
   ],
   "source": [
    "array(1:6, c(2,3))"
   ]
  },
  {
   "cell_type": "code",
   "execution_count": 76,
   "metadata": {},
   "outputs": [
    {
     "data": {
      "text/html": [
       "<ol class=list-inline>\n",
       "\t<li>1</li>\n",
       "\t<li>2</li>\n",
       "\t<li>3</li>\n",
       "\t<li>4</li>\n",
       "\t<li>5</li>\n",
       "\t<li>6</li>\n",
       "\t<li>7</li>\n",
       "\t<li>8</li>\n",
       "</ol>\n"
      ],
      "text/latex": [
       "\\begin{enumerate*}\n",
       "\\item 1\n",
       "\\item 2\n",
       "\\item 3\n",
       "\\item 4\n",
       "\\item 5\n",
       "\\item 6\n",
       "\\item 7\n",
       "\\item 8\n",
       "\\end{enumerate*}\n"
      ],
      "text/markdown": [
       "1. 1\n",
       "2. 2\n",
       "3. 3\n",
       "4. 4\n",
       "5. 5\n",
       "6. 6\n",
       "7. 7\n",
       "8. 8\n",
       "\n",
       "\n"
      ],
      "text/plain": [
       ", , 1\n",
       "\n",
       "     [,1] [,2]\n",
       "[1,]    1    3\n",
       "[2,]    2    4\n",
       "\n",
       ", , 2\n",
       "\n",
       "     [,1] [,2]\n",
       "[1,]    5    7\n",
       "[2,]    6    8\n"
      ]
     },
     "metadata": {},
     "output_type": "display_data"
    },
    {
     "data": {
      "text/html": [
       "<ol class=list-inline>\n",
       "\t<li>1</li>\n",
       "\t<li>2</li>\n",
       "\t<li>3</li>\n",
       "\t<li>4</li>\n",
       "\t<li>5</li>\n",
       "\t<li>6</li>\n",
       "\t<li>7</li>\n",
       "\t<li>8</li>\n",
       "\t<li>9</li>\n",
       "\t<li>10</li>\n",
       "\t<li>11</li>\n",
       "\t<li>12</li>\n",
       "\t<li>13</li>\n",
       "\t<li>14</li>\n",
       "\t<li>15</li>\n",
       "\t<li>16</li>\n",
       "\t<li>17</li>\n",
       "\t<li>18</li>\n",
       "\t<li>19</li>\n",
       "\t<li>20</li>\n",
       "\t<li>21</li>\n",
       "\t<li>22</li>\n",
       "\t<li>23</li>\n",
       "\t<li>24</li>\n",
       "</ol>\n"
      ],
      "text/latex": [
       "\\begin{enumerate*}\n",
       "\\item 1\n",
       "\\item 2\n",
       "\\item 3\n",
       "\\item 4\n",
       "\\item 5\n",
       "\\item 6\n",
       "\\item 7\n",
       "\\item 8\n",
       "\\item 9\n",
       "\\item 10\n",
       "\\item 11\n",
       "\\item 12\n",
       "\\item 13\n",
       "\\item 14\n",
       "\\item 15\n",
       "\\item 16\n",
       "\\item 17\n",
       "\\item 18\n",
       "\\item 19\n",
       "\\item 20\n",
       "\\item 21\n",
       "\\item 22\n",
       "\\item 23\n",
       "\\item 24\n",
       "\\end{enumerate*}\n"
      ],
      "text/markdown": [
       "1. 1\n",
       "2. 2\n",
       "3. 3\n",
       "4. 4\n",
       "5. 5\n",
       "6. 6\n",
       "7. 7\n",
       "8. 8\n",
       "9. 9\n",
       "10. 10\n",
       "11. 11\n",
       "12. 12\n",
       "13. 13\n",
       "14. 14\n",
       "15. 15\n",
       "16. 16\n",
       "17. 17\n",
       "18. 18\n",
       "19. 19\n",
       "20. 20\n",
       "21. 21\n",
       "22. 22\n",
       "23. 23\n",
       "24. 24\n",
       "\n",
       "\n"
      ],
      "text/plain": [
       ", , 1\n",
       "\n",
       "     [,1] [,2] [,3] [,4]\n",
       "[1,]    1    4    7   10\n",
       "[2,]    2    5    8   11\n",
       "[3,]    3    6    9   12\n",
       "\n",
       ", , 2\n",
       "\n",
       "     [,1] [,2] [,3] [,4]\n",
       "[1,]   13   16   19   22\n",
       "[2,]   14   17   20   23\n",
       "[3,]   15   18   21   24\n"
      ]
     },
     "metadata": {},
     "output_type": "display_data"
    }
   ],
   "source": [
    "array(1:8, c(2,2,2))\n",
    "arr <- c(1:24) #이건 벡터 1차원 자료구조\n",
    "dim(arr) <-c(3,4,2) #이건 배열이 됨 \n",
    "arr"
   ]
  },
  {
   "cell_type": "code",
   "execution_count": null,
   "metadata": {},
   "outputs": [],
   "source": [
    "ary1 <- array(1:8, dim=c(2,2,2))\n",
    "ary2 <- array(8:1, dim=c(2,2,2))"
   ]
  },
  {
   "cell_type": "code",
   "execution_count": null,
   "metadata": {},
   "outputs": [],
   "source": [
    "ary1 + ary2 #원소별 연산 \n",
    "ary1 * ary2 #배열의 곱셈\n",
    "ary1 %*% ary2 #두 배열 원소들의 곱의 합 행렬일 때와 배열일 때와 다르다 \n",
    "ary1[,,1] # 배열 원소의 추출/삭제\n",
    "ary1[1,1,]\n",
    "ary1[1,,-2]"
   ]
  },
  {
   "cell_type": "markdown",
   "metadata": {},
   "source": [
    "#리스트 - 서로 다른 형태의 데이터로 구성된 객체. length, mode, names"
   ]
  },
  {
   "cell_type": "code",
   "execution_count": 82,
   "metadata": {},
   "outputs": [
    {
     "data": {
      "text/html": [
       "3"
      ],
      "text/latex": [
       "3"
      ],
      "text/markdown": [
       "3"
      ],
      "text/plain": [
       "[1] 3"
      ]
     },
     "metadata": {},
     "output_type": "display_data"
    },
    {
     "data": {
      "text/html": [
       "'list'"
      ],
      "text/latex": [
       "'list'"
      ],
      "text/markdown": [
       "'list'"
      ],
      "text/plain": [
       "[1] \"list\""
      ]
     },
     "metadata": {},
     "output_type": "display_data"
    },
    {
     "data": {
      "text/html": [
       "<ol class=list-inline>\n",
       "\t<li>'vec1'</li>\n",
       "\t<li>'vec2'</li>\n",
       "\t<li>'descrip'</li>\n",
       "</ol>\n"
      ],
      "text/latex": [
       "\\begin{enumerate*}\n",
       "\\item 'vec1'\n",
       "\\item 'vec2'\n",
       "\\item 'descrip'\n",
       "\\end{enumerate*}\n"
      ],
      "text/markdown": [
       "1. 'vec1'\n",
       "2. 'vec2'\n",
       "3. 'descrip'\n",
       "\n",
       "\n"
      ],
      "text/plain": [
       "[1] \"vec1\"    \"vec2\"    \"descrip\""
      ]
     },
     "metadata": {},
     "output_type": "display_data"
    },
    {
     "data": {
      "text/html": [
       "<dl>\n",
       "\t<dt>$vec1</dt>\n",
       "\t\t<dd><ol class=list-inline>\n",
       "\t<li>1</li>\n",
       "\t<li>2</li>\n",
       "\t<li>3</li>\n",
       "\t<li>4</li>\n",
       "\t<li>5</li>\n",
       "\t<li>6</li>\n",
       "\t<li>7</li>\n",
       "\t<li>8</li>\n",
       "\t<li>9</li>\n",
       "\t<li>10</li>\n",
       "</ol>\n",
       "</dd>\n",
       "\t<dt>$vec2</dt>\n",
       "\t\t<dd><ol class=list-inline>\n",
       "\t<li>11</li>\n",
       "\t<li>12</li>\n",
       "\t<li>13</li>\n",
       "\t<li>14</li>\n",
       "\t<li>15</li>\n",
       "</ol>\n",
       "</dd>\n",
       "\t<dt>$descrip</dt>\n",
       "\t\t<dd>'example'</dd>\n",
       "</dl>\n"
      ],
      "text/latex": [
       "\\begin{description}\n",
       "\\item[\\$vec1] \\begin{enumerate*}\n",
       "\\item 1\n",
       "\\item 2\n",
       "\\item 3\n",
       "\\item 4\n",
       "\\item 5\n",
       "\\item 6\n",
       "\\item 7\n",
       "\\item 8\n",
       "\\item 9\n",
       "\\item 10\n",
       "\\end{enumerate*}\n",
       "\n",
       "\\item[\\$vec2] \\begin{enumerate*}\n",
       "\\item 11\n",
       "\\item 12\n",
       "\\item 13\n",
       "\\item 14\n",
       "\\item 15\n",
       "\\end{enumerate*}\n",
       "\n",
       "\\item[\\$descrip] 'example'\n",
       "\\end{description}\n"
      ],
      "text/markdown": [
       "$vec1\n",
       ":   1. 1\n",
       "2. 2\n",
       "3. 3\n",
       "4. 4\n",
       "5. 5\n",
       "6. 6\n",
       "7. 7\n",
       "8. 8\n",
       "9. 9\n",
       "10. 10\n",
       "\n",
       "\n",
       "\n",
       "$vec2\n",
       ":   1. 11\n",
       "2. 12\n",
       "3. 13\n",
       "4. 14\n",
       "5. 15\n",
       "\n",
       "\n",
       "\n",
       "$descrip\n",
       ":   'example'\n",
       "\n",
       "\n"
      ],
      "text/plain": [
       "$vec1\n",
       " [1]  1  2  3  4  5  6  7  8  9 10\n",
       "\n",
       "$vec2\n",
       "[1] 11 12 13 14 15\n",
       "\n",
       "$descrip\n",
       "[1] \"example\"\n"
      ]
     },
     "metadata": {},
     "output_type": "display_data"
    }
   ],
   "source": [
    "a <- 1:10\n",
    "b <- 11:15\n",
    "klist <- list(vec1=a, vec2=b, descrip=\"example\")\n",
    "length(klist) #배열 까지는 개별 원소 개수 list 에서는 component 개수 세개 매우 중요 \n",
    "mode(klist)\n",
    "names(klist)\n",
    "klist"
   ]
  },
  {
   "cell_type": "code",
   "execution_count": 81,
   "metadata": {},
   "outputs": [
    {
     "data": {
      "text/html": [
       "3"
      ],
      "text/latex": [
       "3"
      ],
      "text/markdown": [
       "3"
      ],
      "text/plain": [
       "[1] 3"
      ]
     },
     "metadata": {},
     "output_type": "display_data"
    },
    {
     "data": {
      "text/html": [
       "'list'"
      ],
      "text/latex": [
       "'list'"
      ],
      "text/markdown": [
       "'list'"
      ],
      "text/plain": [
       "[1] \"list\""
      ]
     },
     "metadata": {},
     "output_type": "display_data"
    },
    {
     "data": {
      "text/plain": [
       "NULL"
      ]
     },
     "metadata": {},
     "output_type": "display_data"
    },
    {
     "data": {
      "text/html": [
       "<ol>\n",
       "\t<li><ol class=list-inline>\n",
       "\t<li>1</li>\n",
       "\t<li>2</li>\n",
       "\t<li>3</li>\n",
       "\t<li>4</li>\n",
       "\t<li>5</li>\n",
       "\t<li>6</li>\n",
       "\t<li>7</li>\n",
       "\t<li>8</li>\n",
       "\t<li>9</li>\n",
       "\t<li>10</li>\n",
       "</ol>\n",
       "</li>\n",
       "\t<li><ol class=list-inline>\n",
       "\t<li>11</li>\n",
       "\t<li>12</li>\n",
       "\t<li>13</li>\n",
       "\t<li>14</li>\n",
       "\t<li>15</li>\n",
       "</ol>\n",
       "</li>\n",
       "\t<li>'example'</li>\n",
       "</ol>\n"
      ],
      "text/latex": [
       "\\begin{enumerate}\n",
       "\\item \\begin{enumerate*}\n",
       "\\item 1\n",
       "\\item 2\n",
       "\\item 3\n",
       "\\item 4\n",
       "\\item 5\n",
       "\\item 6\n",
       "\\item 7\n",
       "\\item 8\n",
       "\\item 9\n",
       "\\item 10\n",
       "\\end{enumerate*}\n",
       "\n",
       "\\item \\begin{enumerate*}\n",
       "\\item 11\n",
       "\\item 12\n",
       "\\item 13\n",
       "\\item 14\n",
       "\\item 15\n",
       "\\end{enumerate*}\n",
       "\n",
       "\\item 'example'\n",
       "\\end{enumerate}\n"
      ],
      "text/markdown": [
       "1. 1. 1\n",
       "2. 2\n",
       "3. 3\n",
       "4. 4\n",
       "5. 5\n",
       "6. 6\n",
       "7. 7\n",
       "8. 8\n",
       "9. 9\n",
       "10. 10\n",
       "\n",
       "\n",
       "\n",
       "2. 1. 11\n",
       "2. 12\n",
       "3. 13\n",
       "4. 14\n",
       "5. 15\n",
       "\n",
       "\n",
       "\n",
       "3. 'example'\n",
       "\n",
       "\n"
      ],
      "text/plain": [
       "[[1]]\n",
       " [1]  1  2  3  4  5  6  7  8  9 10\n",
       "\n",
       "[[2]]\n",
       "[1] 11 12 13 14 15\n",
       "\n",
       "[[3]]\n",
       "[1] \"example\"\n"
      ]
     },
     "metadata": {},
     "output_type": "display_data"
    }
   ],
   "source": [
    "clist <- list(a,b,\"example\")\n",
    "length(clist)\n",
    "mode(clist)\n",
    "names(clist)\n",
    "clist"
   ]
  },
  {
   "cell_type": "code",
   "execution_count": 83,
   "metadata": {},
   "outputs": [
    {
     "data": {
      "text/html": [
       "<ol>\n",
       "\t<li>'A'</li>\n",
       "\t<li><ol class=list-inline>\n",
       "\t<li>1</li>\n",
       "\t<li>2</li>\n",
       "\t<li>3</li>\n",
       "\t<li>4</li>\n",
       "\t<li>5</li>\n",
       "\t<li>6</li>\n",
       "\t<li>7</li>\n",
       "\t<li>8</li>\n",
       "</ol>\n",
       "</li>\n",
       "</ol>\n"
      ],
      "text/latex": [
       "\\begin{enumerate}\n",
       "\\item 'A'\n",
       "\\item \\begin{enumerate*}\n",
       "\\item 1\n",
       "\\item 2\n",
       "\\item 3\n",
       "\\item 4\n",
       "\\item 5\n",
       "\\item 6\n",
       "\\item 7\n",
       "\\item 8\n",
       "\\end{enumerate*}\n",
       "\n",
       "\\end{enumerate}\n"
      ],
      "text/markdown": [
       "1. 'A'\n",
       "2. 1. 1\n",
       "2. 2\n",
       "3. 3\n",
       "4. 4\n",
       "5. 5\n",
       "6. 6\n",
       "7. 7\n",
       "8. 8\n",
       "\n",
       "\n",
       "\n",
       "\n",
       "\n"
      ],
      "text/plain": [
       "[[1]]\n",
       "[1] \"A\"\n",
       "\n",
       "[[2]]\n",
       "[1] 1 2 3 4 5 6 7 8\n"
      ]
     },
     "metadata": {},
     "output_type": "display_data"
    }
   ],
   "source": [
    "list1 <- list(\"A\", 1:8)\n",
    "list1"
   ]
  },
  {
   "cell_type": "code",
   "execution_count": 85,
   "metadata": {},
   "outputs": [
    {
     "data": {
      "text/html": [
       "<ol>\n",
       "\t<li>'A'</li>\n",
       "\t<li><ol class=list-inline>\n",
       "\t<li>1</li>\n",
       "\t<li>2</li>\n",
       "\t<li>3</li>\n",
       "\t<li>4</li>\n",
       "\t<li>5</li>\n",
       "\t<li>6</li>\n",
       "\t<li>7</li>\n",
       "\t<li>8</li>\n",
       "</ol>\n",
       "</li>\n",
       "\t<li><ol>\n",
       "\t<li><ol class=list-inline>\n",
       "\t<li>TRUE</li>\n",
       "\t<li>FALSE</li>\n",
       "</ol>\n",
       "</li>\n",
       "</ol>\n",
       "</li>\n",
       "</ol>\n"
      ],
      "text/latex": [
       "\\begin{enumerate}\n",
       "\\item 'A'\n",
       "\\item \\begin{enumerate*}\n",
       "\\item 1\n",
       "\\item 2\n",
       "\\item 3\n",
       "\\item 4\n",
       "\\item 5\n",
       "\\item 6\n",
       "\\item 7\n",
       "\\item 8\n",
       "\\end{enumerate*}\n",
       "\n",
       "\\item \\begin{enumerate}\n",
       "\\item \\begin{enumerate*}\n",
       "\\item TRUE\n",
       "\\item FALSE\n",
       "\\end{enumerate*}\n",
       "\n",
       "\\end{enumerate}\n",
       "\n",
       "\\end{enumerate}\n"
      ],
      "text/markdown": [
       "1. 'A'\n",
       "2. 1. 1\n",
       "2. 2\n",
       "3. 3\n",
       "4. 4\n",
       "5. 5\n",
       "6. 6\n",
       "7. 7\n",
       "8. 8\n",
       "\n",
       "\n",
       "\n",
       "3. 1. 1. TRUE\n",
       "2. FALSE\n",
       "\n",
       "\n",
       "\n",
       "\n",
       "\n",
       "\n",
       "\n",
       "\n"
      ],
      "text/plain": [
       "[[1]]\n",
       "[1] \"A\"\n",
       "\n",
       "[[2]]\n",
       "[1] 1 2 3 4 5 6 7 8\n",
       "\n",
       "[[3]]\n",
       "[[3]][[1]]\n",
       "[1]  TRUE FALSE\n",
       "\n"
      ]
     },
     "metadata": {},
     "output_type": "display_data"
    }
   ],
   "source": [
    "list1[[3]]<-list(c(T,F))\n",
    "list1"
   ]
  },
  {
   "cell_type": "code",
   "execution_count": 87,
   "metadata": {},
   "outputs": [
    {
     "data": {
      "text/html": [
       "<ol>\n",
       "\t<li>'A'</li>\n",
       "\t<li><ol class=list-inline>\n",
       "\t<li>1</li>\n",
       "\t<li>2</li>\n",
       "\t<li>3</li>\n",
       "\t<li>4</li>\n",
       "\t<li>5</li>\n",
       "\t<li>6</li>\n",
       "\t<li>7</li>\n",
       "\t<li>8</li>\n",
       "\t<li>9</li>\n",
       "</ol>\n",
       "</li>\n",
       "\t<li><ol>\n",
       "\t<li><ol class=list-inline>\n",
       "\t<li>TRUE</li>\n",
       "\t<li>FALSE</li>\n",
       "</ol>\n",
       "</li>\n",
       "</ol>\n",
       "</li>\n",
       "</ol>\n"
      ],
      "text/latex": [
       "\\begin{enumerate}\n",
       "\\item 'A'\n",
       "\\item \\begin{enumerate*}\n",
       "\\item 1\n",
       "\\item 2\n",
       "\\item 3\n",
       "\\item 4\n",
       "\\item 5\n",
       "\\item 6\n",
       "\\item 7\n",
       "\\item 8\n",
       "\\item 9\n",
       "\\end{enumerate*}\n",
       "\n",
       "\\item \\begin{enumerate}\n",
       "\\item \\begin{enumerate*}\n",
       "\\item TRUE\n",
       "\\item FALSE\n",
       "\\end{enumerate*}\n",
       "\n",
       "\\end{enumerate}\n",
       "\n",
       "\\end{enumerate}\n"
      ],
      "text/markdown": [
       "1. 'A'\n",
       "2. 1. 1\n",
       "2. 2\n",
       "3. 3\n",
       "4. 4\n",
       "5. 5\n",
       "6. 6\n",
       "7. 7\n",
       "8. 8\n",
       "9. 9\n",
       "\n",
       "\n",
       "\n",
       "3. 1. 1. TRUE\n",
       "2. FALSE\n",
       "\n",
       "\n",
       "\n",
       "\n",
       "\n",
       "\n",
       "\n",
       "\n"
      ],
      "text/plain": [
       "[[1]]\n",
       "[1] \"A\"\n",
       "\n",
       "[[2]]\n",
       "[1] 1 2 3 4 5 6 7 8 9\n",
       "\n",
       "[[3]]\n",
       "[[3]][[1]]\n",
       "[1]  TRUE FALSE\n",
       "\n"
      ]
     },
     "metadata": {},
     "output_type": "display_data"
    }
   ],
   "source": [
    "list1[[2]][9]<-9 #두번째 성분에 원소 추가\n",
    "list1"
   ]
  },
  {
   "cell_type": "code",
   "execution_count": 88,
   "metadata": {},
   "outputs": [
    {
     "data": {
      "text/html": [
       "<ol>\n",
       "\t<li>'A'</li>\n",
       "\t<li><ol class=list-inline>\n",
       "\t<li>1</li>\n",
       "\t<li>2</li>\n",
       "\t<li>3</li>\n",
       "\t<li>4</li>\n",
       "\t<li>5</li>\n",
       "\t<li>6</li>\n",
       "\t<li>7</li>\n",
       "\t<li>8</li>\n",
       "</ol>\n",
       "</li>\n",
       "</ol>\n"
      ],
      "text/latex": [
       "\\begin{enumerate}\n",
       "\\item 'A'\n",
       "\\item \\begin{enumerate*}\n",
       "\\item 1\n",
       "\\item 2\n",
       "\\item 3\n",
       "\\item 4\n",
       "\\item 5\n",
       "\\item 6\n",
       "\\item 7\n",
       "\\item 8\n",
       "\\end{enumerate*}\n",
       "\n",
       "\\end{enumerate}\n"
      ],
      "text/markdown": [
       "1. 'A'\n",
       "2. 1. 1\n",
       "2. 2\n",
       "3. 3\n",
       "4. 4\n",
       "5. 5\n",
       "6. 6\n",
       "7. 7\n",
       "8. 8\n",
       "\n",
       "\n",
       "\n",
       "\n",
       "\n"
      ],
      "text/plain": [
       "[[1]]\n",
       "[1] \"A\"\n",
       "\n",
       "[[2]]\n",
       "[1] 1 2 3 4 5 6 7 8\n"
      ]
     },
     "metadata": {},
     "output_type": "display_data"
    }
   ],
   "source": [
    "list1[3]<-NULL #세번째 성분 삭제\n",
    "list1[[2]] <-list1[[2]][-9] #두번째 성분의 9번째 원소 삭제\n",
    "list1"
   ]
  },
  {
   "cell_type": "code",
   "execution_count": 89,
   "metadata": {},
   "outputs": [
    {
     "data": {
      "text/html": [
       "<dl>\n",
       "\t<dt>$vec1</dt>\n",
       "\t\t<dd><ol class=list-inline>\n",
       "\t<li>1</li>\n",
       "\t<li>2</li>\n",
       "\t<li>3</li>\n",
       "\t<li>4</li>\n",
       "\t<li>5</li>\n",
       "\t<li>6</li>\n",
       "\t<li>7</li>\n",
       "\t<li>8</li>\n",
       "\t<li>9</li>\n",
       "\t<li>10</li>\n",
       "</ol>\n",
       "</dd>\n",
       "\t<dt>$vec2</dt>\n",
       "\t\t<dd><ol class=list-inline>\n",
       "\t<li>11</li>\n",
       "\t<li>12</li>\n",
       "\t<li>13</li>\n",
       "\t<li>14</li>\n",
       "\t<li>15</li>\n",
       "</ol>\n",
       "</dd>\n",
       "\t<dt>$descrip</dt>\n",
       "\t\t<dd>'example'</dd>\n",
       "</dl>\n"
      ],
      "text/latex": [
       "\\begin{description}\n",
       "\\item[\\$vec1] \\begin{enumerate*}\n",
       "\\item 1\n",
       "\\item 2\n",
       "\\item 3\n",
       "\\item 4\n",
       "\\item 5\n",
       "\\item 6\n",
       "\\item 7\n",
       "\\item 8\n",
       "\\item 9\n",
       "\\item 10\n",
       "\\end{enumerate*}\n",
       "\n",
       "\\item[\\$vec2] \\begin{enumerate*}\n",
       "\\item 11\n",
       "\\item 12\n",
       "\\item 13\n",
       "\\item 14\n",
       "\\item 15\n",
       "\\end{enumerate*}\n",
       "\n",
       "\\item[\\$descrip] 'example'\n",
       "\\end{description}\n"
      ],
      "text/markdown": [
       "$vec1\n",
       ":   1. 1\n",
       "2. 2\n",
       "3. 3\n",
       "4. 4\n",
       "5. 5\n",
       "6. 6\n",
       "7. 7\n",
       "8. 8\n",
       "9. 9\n",
       "10. 10\n",
       "\n",
       "\n",
       "\n",
       "$vec2\n",
       ":   1. 11\n",
       "2. 12\n",
       "3. 13\n",
       "4. 14\n",
       "5. 15\n",
       "\n",
       "\n",
       "\n",
       "$descrip\n",
       ":   'example'\n",
       "\n",
       "\n"
      ],
      "text/plain": [
       "$vec1\n",
       " [1]  1  2  3  4  5  6  7  8  9 10\n",
       "\n",
       "$vec2\n",
       "[1] 11 12 13 14 15\n",
       "\n",
       "$descrip\n",
       "[1] \"example\"\n"
      ]
     },
     "metadata": {},
     "output_type": "display_data"
    }
   ],
   "source": [
    "a<-1:10\n",
    "b<-11:15\n",
    "nlist<-list(vec1=a,vec2=b,descrip=\"example\")\n",
    "nlist"
   ]
  },
  {
   "cell_type": "code",
   "execution_count": 90,
   "metadata": {},
   "outputs": [
    {
     "data": {
      "text/html": [
       "15"
      ],
      "text/latex": [
       "15"
      ],
      "text/markdown": [
       "15"
      ],
      "text/plain": [
       "[1] 15"
      ]
     },
     "metadata": {},
     "output_type": "display_data"
    },
    {
     "data": {
      "text/html": [
       "<ol class=list-inline>\n",
       "\t<li>12</li>\n",
       "\t<li>13</li>\n",
       "</ol>\n"
      ],
      "text/latex": [
       "\\begin{enumerate*}\n",
       "\\item 12\n",
       "\\item 13\n",
       "\\end{enumerate*}\n"
      ],
      "text/markdown": [
       "1. 12\n",
       "2. 13\n",
       "\n",
       "\n"
      ],
      "text/plain": [
       "[1] 12 13"
      ]
     },
     "metadata": {},
     "output_type": "display_data"
    }
   ],
   "source": [
    "nlist[[2]][5]\n",
    "nlist$vec2[c(2,3)] #vec2의 두번째와 세번째 원소 "
   ]
  },
  {
   "cell_type": "markdown",
   "metadata": {},
   "source": [
    "#데이터프레임 - 형태가 일반화된 행렬. 하나의 객체에 여러 종류의 자료가 들어갈 수 있음. 각 열은 각각 변수와 대응. 분석이나 모형설정에 적합"
   ]
  },
  {
   "cell_type": "code",
   "execution_count": 95,
   "metadata": {},
   "outputs": [
    {
     "data": {
      "text/html": [
       "<table>\n",
       "<thead><tr><th scope=col>name</th><th scope=col>age</th><th scope=col>sex</th></tr></thead>\n",
       "<tbody>\n",
       "\t<tr><td>lee </td><td>55  </td><td>m   </td></tr>\n",
       "\t<tr><td>Park</td><td>47  </td><td>F   </td></tr>\n",
       "\t<tr><td>So  </td><td>35  </td><td>M   </td></tr>\n",
       "\t<tr><td>Kim </td><td>26  </td><td>F   </td></tr>\n",
       "\t<tr><td>Yoon</td><td>29  </td><td>M   </td></tr>\n",
       "</tbody>\n",
       "</table>\n"
      ],
      "text/latex": [
       "\\begin{tabular}{r|lll}\n",
       " name & age & sex\\\\\n",
       "\\hline\n",
       "\t lee  & 55   & m   \\\\\n",
       "\t Park & 47   & F   \\\\\n",
       "\t So   & 35   & M   \\\\\n",
       "\t Kim  & 26   & F   \\\\\n",
       "\t Yoon & 29   & M   \\\\\n",
       "\\end{tabular}\n"
      ],
      "text/markdown": [
       "\n",
       "| name | age | sex |\n",
       "|---|---|---|\n",
       "| lee  | 55   | m    |\n",
       "| Park | 47   | F    |\n",
       "| So   | 35   | M    |\n",
       "| Kim  | 26   | F    |\n",
       "| Yoon | 29   | M    |\n",
       "\n"
      ],
      "text/plain": [
       "  name age sex\n",
       "1 lee  55  m  \n",
       "2 Park 47  F  \n",
       "3 So   35  M  \n",
       "4 Kim  26  F  \n",
       "5 Yoon 29  M  "
      ]
     },
     "metadata": {},
     "output_type": "display_data"
    }
   ],
   "source": [
    "d2 <- read.table(\"story.txt\", row.names='num', header=T) #num은 데이터의 num이라는 변수가 행 이름임을 나타냄 \n",
    "d2"
   ]
  },
  {
   "cell_type": "code",
   "execution_count": 96,
   "metadata": {},
   "outputs": [
    {
     "data": {
      "text/html": [
       "<ol class=list-inline>\n",
       "\t<li>'A'</li>\n",
       "\t<li>'A'</li>\n",
       "\t<li>'B'</li>\n",
       "\t<li>'B'</li>\n",
       "\t<li>'C'</li>\n",
       "</ol>\n"
      ],
      "text/latex": [
       "\\begin{enumerate*}\n",
       "\\item 'A'\n",
       "\\item 'A'\n",
       "\\item 'B'\n",
       "\\item 'B'\n",
       "\\item 'C'\n",
       "\\end{enumerate*}\n"
      ],
      "text/markdown": [
       "1. 'A'\n",
       "2. 'A'\n",
       "3. 'B'\n",
       "4. 'B'\n",
       "5. 'C'\n",
       "\n",
       "\n"
      ],
      "text/plain": [
       "[1] \"A\" \"A\" \"B\" \"B\" \"C\""
      ]
     },
     "metadata": {},
     "output_type": "display_data"
    }
   ],
   "source": [
    "char1 <- rep(LETTERS[1:3],c(2,2,1)) #abc 를 두개 두개 하나 반복하라\n",
    "char1"
   ]
  },
  {
   "cell_type": "code",
   "execution_count": 97,
   "metadata": {},
   "outputs": [
    {
     "data": {
      "text/html": [
       "<ol class=list-inline>\n",
       "\t<li>1</li>\n",
       "\t<li>1</li>\n",
       "\t<li>2</li>\n",
       "\t<li>2</li>\n",
       "\t<li>3</li>\n",
       "</ol>\n"
      ],
      "text/latex": [
       "\\begin{enumerate*}\n",
       "\\item 1\n",
       "\\item 1\n",
       "\\item 2\n",
       "\\item 2\n",
       "\\item 3\n",
       "\\end{enumerate*}\n"
      ],
      "text/markdown": [
       "1. 1\n",
       "2. 1\n",
       "3. 2\n",
       "4. 2\n",
       "5. 3\n",
       "\n",
       "\n"
      ],
      "text/plain": [
       "[1] 1 1 2 2 3"
      ]
     },
     "metadata": {},
     "output_type": "display_data"
    }
   ],
   "source": [
    "num1<-rep(1:3,c(2,2,1))\n",
    "num1"
   ]
  },
  {
   "cell_type": "code",
   "execution_count": 98,
   "metadata": {},
   "outputs": [
    {
     "data": {
      "text/html": [
       "<table>\n",
       "<thead><tr><th scope=col>char1</th><th scope=col>num1</th></tr></thead>\n",
       "<tbody>\n",
       "\t<tr><td>A</td><td>1</td></tr>\n",
       "\t<tr><td>A</td><td>1</td></tr>\n",
       "\t<tr><td>B</td><td>2</td></tr>\n",
       "\t<tr><td>B</td><td>2</td></tr>\n",
       "\t<tr><td>C</td><td>3</td></tr>\n",
       "</tbody>\n",
       "</table>\n"
      ],
      "text/latex": [
       "\\begin{tabular}{r|ll}\n",
       " char1 & num1\\\\\n",
       "\\hline\n",
       "\t A & 1\\\\\n",
       "\t A & 1\\\\\n",
       "\t B & 2\\\\\n",
       "\t B & 2\\\\\n",
       "\t C & 3\\\\\n",
       "\\end{tabular}\n"
      ],
      "text/markdown": [
       "\n",
       "| char1 | num1 |\n",
       "|---|---|\n",
       "| A | 1 |\n",
       "| A | 1 |\n",
       "| B | 2 |\n",
       "| B | 2 |\n",
       "| C | 3 |\n",
       "\n"
      ],
      "text/plain": [
       "  char1 num1\n",
       "1 A     1   \n",
       "2 A     1   \n",
       "3 B     2   \n",
       "4 B     2   \n",
       "5 C     3   "
      ]
     },
     "metadata": {},
     "output_type": "display_data"
    }
   ],
   "source": [
    "test1<-data.frame(char1,num1)\n",
    "test1"
   ]
  },
  {
   "cell_type": "code",
   "execution_count": 100,
   "metadata": {},
   "outputs": [
    {
     "data": {
      "text/html": [
       "<ol class=list-inline>\n",
       "\t<li>'A'</li>\n",
       "\t<li>'B'</li>\n",
       "\t<li>'C'</li>\n",
       "\t<li>'D'</li>\n",
       "\t<li>'E'</li>\n",
       "\t<li>'F'</li>\n",
       "\t<li>'G'</li>\n",
       "\t<li>'H'</li>\n",
       "\t<li>'I'</li>\n",
       "\t<li>'J'</li>\n",
       "\t<li>'K'</li>\n",
       "\t<li>'L'</li>\n",
       "\t<li>'M'</li>\n",
       "\t<li>'N'</li>\n",
       "\t<li>'O'</li>\n",
       "</ol>\n"
      ],
      "text/latex": [
       "\\begin{enumerate*}\n",
       "\\item 'A'\n",
       "\\item 'B'\n",
       "\\item 'C'\n",
       "\\item 'D'\n",
       "\\item 'E'\n",
       "\\item 'F'\n",
       "\\item 'G'\n",
       "\\item 'H'\n",
       "\\item 'I'\n",
       "\\item 'J'\n",
       "\\item 'K'\n",
       "\\item 'L'\n",
       "\\item 'M'\n",
       "\\item 'N'\n",
       "\\item 'O'\n",
       "\\end{enumerate*}\n"
      ],
      "text/markdown": [
       "1. 'A'\n",
       "2. 'B'\n",
       "3. 'C'\n",
       "4. 'D'\n",
       "5. 'E'\n",
       "6. 'F'\n",
       "7. 'G'\n",
       "8. 'H'\n",
       "9. 'I'\n",
       "10. 'J'\n",
       "11. 'K'\n",
       "12. 'L'\n",
       "13. 'M'\n",
       "14. 'N'\n",
       "15. 'O'\n",
       "\n",
       "\n"
      ],
      "text/plain": [
       " [1] \"A\" \"B\" \"C\" \"D\" \"E\" \"F\" \"G\" \"H\" \"I\" \"J\" \"K\" \"L\" \"M\" \"N\" \"O\""
      ]
     },
     "metadata": {},
     "output_type": "display_data"
    },
    {
     "data": {
      "text/html": [
       "<table>\n",
       "<tbody>\n",
       "\t<tr><td>A</td><td>F</td><td>K</td></tr>\n",
       "\t<tr><td>B</td><td>G</td><td>L</td></tr>\n",
       "\t<tr><td>C</td><td>H</td><td>M</td></tr>\n",
       "\t<tr><td>D</td><td>I</td><td>N</td></tr>\n",
       "\t<tr><td>E</td><td>J</td><td>O</td></tr>\n",
       "</tbody>\n",
       "</table>\n"
      ],
      "text/latex": [
       "\\begin{tabular}{lll}\n",
       "\t A & F & K\\\\\n",
       "\t B & G & L\\\\\n",
       "\t C & H & M\\\\\n",
       "\t D & I & N\\\\\n",
       "\t E & J & O\\\\\n",
       "\\end{tabular}\n"
      ],
      "text/markdown": [
       "\n",
       "| A | F | K |\n",
       "| B | G | L |\n",
       "| C | H | M |\n",
       "| D | I | N |\n",
       "| E | J | O |\n",
       "\n"
      ],
      "text/plain": [
       "     [,1] [,2] [,3]\n",
       "[1,] A    F    K   \n",
       "[2,] B    G    L   \n",
       "[3,] C    H    M   \n",
       "[4,] D    I    N   \n",
       "[5,] E    J    O   "
      ]
     },
     "metadata": {},
     "output_type": "display_data"
    }
   ],
   "source": [
    "a1<-LETTERS[1:15]\n",
    "a1\n",
    "dim(a1)<-c(5,3)\n",
    "a1"
   ]
  },
  {
   "cell_type": "code",
   "execution_count": 101,
   "metadata": {},
   "outputs": [
    {
     "data": {
      "text/html": [
       "<table>\n",
       "<thead><tr><th scope=col>V1</th><th scope=col>V2</th><th scope=col>V3</th></tr></thead>\n",
       "<tbody>\n",
       "\t<tr><td>A</td><td>F</td><td>K</td></tr>\n",
       "\t<tr><td>B</td><td>G</td><td>L</td></tr>\n",
       "\t<tr><td>C</td><td>H</td><td>M</td></tr>\n",
       "\t<tr><td>D</td><td>I</td><td>N</td></tr>\n",
       "\t<tr><td>E</td><td>J</td><td>O</td></tr>\n",
       "</tbody>\n",
       "</table>\n"
      ],
      "text/latex": [
       "\\begin{tabular}{r|lll}\n",
       " V1 & V2 & V3\\\\\n",
       "\\hline\n",
       "\t A & F & K\\\\\n",
       "\t B & G & L\\\\\n",
       "\t C & H & M\\\\\n",
       "\t D & I & N\\\\\n",
       "\t E & J & O\\\\\n",
       "\\end{tabular}\n"
      ],
      "text/markdown": [
       "\n",
       "| V1 | V2 | V3 |\n",
       "|---|---|---|\n",
       "| A | F | K |\n",
       "| B | G | L |\n",
       "| C | H | M |\n",
       "| D | I | N |\n",
       "| E | J | O |\n",
       "\n"
      ],
      "text/plain": [
       "  V1 V2 V3\n",
       "1 A  F  K \n",
       "2 B  G  L \n",
       "3 C  H  M \n",
       "4 D  I  N \n",
       "5 E  J  O "
      ]
     },
     "metadata": {},
     "output_type": "display_data"
    }
   ],
   "source": [
    "test3<-as.data.frame(a1) #문자형 행렬을 데이터프레임으로 변경 - 열번호 행번호가 사라지고 변수명과 각 케이스로 변환 \n",
    "test3"
   ]
  },
  {
   "cell_type": "code",
   "execution_count": 102,
   "metadata": {},
   "outputs": [
    {
     "data": {
      "text/html": [
       "<table>\n",
       "<thead><tr><th scope=col>char1</th><th scope=col>num1</th><th scope=col>V1</th><th scope=col>V2</th><th scope=col>V3</th></tr></thead>\n",
       "<tbody>\n",
       "\t<tr><td>A</td><td>1</td><td>A</td><td>F</td><td>K</td></tr>\n",
       "\t<tr><td>A</td><td>1</td><td>B</td><td>G</td><td>L</td></tr>\n",
       "\t<tr><td>B</td><td>2</td><td>C</td><td>H</td><td>M</td></tr>\n",
       "\t<tr><td>B</td><td>2</td><td>D</td><td>I</td><td>N</td></tr>\n",
       "\t<tr><td>C</td><td>3</td><td>E</td><td>J</td><td>O</td></tr>\n",
       "</tbody>\n",
       "</table>\n"
      ],
      "text/latex": [
       "\\begin{tabular}{r|lllll}\n",
       " char1 & num1 & V1 & V2 & V3\\\\\n",
       "\\hline\n",
       "\t A & 1 & A & F & K\\\\\n",
       "\t A & 1 & B & G & L\\\\\n",
       "\t B & 2 & C & H & M\\\\\n",
       "\t B & 2 & D & I & N\\\\\n",
       "\t C & 3 & E & J & O\\\\\n",
       "\\end{tabular}\n"
      ],
      "text/markdown": [
       "\n",
       "| char1 | num1 | V1 | V2 | V3 |\n",
       "|---|---|---|---|---|\n",
       "| A | 1 | A | F | K |\n",
       "| A | 1 | B | G | L |\n",
       "| B | 2 | C | H | M |\n",
       "| B | 2 | D | I | N |\n",
       "| C | 3 | E | J | O |\n",
       "\n"
      ],
      "text/plain": [
       "  char1 num1 V1 V2 V3\n",
       "1 A     1    A  F  K \n",
       "2 A     1    B  G  L \n",
       "3 B     2    C  H  M \n",
       "4 B     2    D  I  N \n",
       "5 C     3    E  J  O "
      ]
     },
     "metadata": {},
     "output_type": "display_data"
    }
   ],
   "source": [
    "cbind(test1,test3)"
   ]
  },
  {
   "cell_type": "code",
   "execution_count": 103,
   "metadata": {},
   "outputs": [
    {
     "data": {
      "text/html": [
       "<ol class=list-inline>\n",
       "\t<li>'A'</li>\n",
       "\t<li>'B'</li>\n",
       "\t<li>'B'</li>\n",
       "\t<li>'C'</li>\n",
       "\t<li>'C'</li>\n",
       "</ol>\n"
      ],
      "text/latex": [
       "\\begin{enumerate*}\n",
       "\\item 'A'\n",
       "\\item 'B'\n",
       "\\item 'B'\n",
       "\\item 'C'\n",
       "\\item 'C'\n",
       "\\end{enumerate*}\n"
      ],
      "text/markdown": [
       "1. 'A'\n",
       "2. 'B'\n",
       "3. 'B'\n",
       "4. 'C'\n",
       "5. 'C'\n",
       "\n",
       "\n"
      ],
      "text/plain": [
       "[1] \"A\" \"B\" \"B\" \"C\" \"C\""
      ]
     },
     "metadata": {},
     "output_type": "display_data"
    }
   ],
   "source": [
    "char1 <- rep(LETTERS[1:3],c(1,2,2))\n",
    "char1"
   ]
  },
  {
   "cell_type": "code",
   "execution_count": 105,
   "metadata": {},
   "outputs": [
    {
     "data": {
      "text/html": [
       "<ol class=list-inline>\n",
       "\t<li>1</li>\n",
       "\t<li>2</li>\n",
       "\t<li>3</li>\n",
       "\t<li>3</li>\n",
       "\t<li>3</li>\n",
       "</ol>\n"
      ],
      "text/latex": [
       "\\begin{enumerate*}\n",
       "\\item 1\n",
       "\\item 2\n",
       "\\item 3\n",
       "\\item 3\n",
       "\\item 3\n",
       "\\end{enumerate*}\n"
      ],
      "text/markdown": [
       "1. 1\n",
       "2. 2\n",
       "3. 3\n",
       "4. 3\n",
       "5. 3\n",
       "\n",
       "\n"
      ],
      "text/plain": [
       "[1] 1 2 3 3 3"
      ]
     },
     "metadata": {},
     "output_type": "display_data"
    },
    {
     "data": {
      "text/html": [
       "<table>\n",
       "<thead><tr><th scope=col>char1</th><th scope=col>num1</th></tr></thead>\n",
       "<tbody>\n",
       "\t<tr><td>A</td><td>1</td></tr>\n",
       "\t<tr><td>B</td><td>2</td></tr>\n",
       "\t<tr><td>B</td><td>3</td></tr>\n",
       "\t<tr><td>C</td><td>3</td></tr>\n",
       "\t<tr><td>C</td><td>3</td></tr>\n",
       "</tbody>\n",
       "</table>\n"
      ],
      "text/latex": [
       "\\begin{tabular}{r|ll}\n",
       " char1 & num1\\\\\n",
       "\\hline\n",
       "\t A & 1\\\\\n",
       "\t B & 2\\\\\n",
       "\t B & 3\\\\\n",
       "\t C & 3\\\\\n",
       "\t C & 3\\\\\n",
       "\\end{tabular}\n"
      ],
      "text/markdown": [
       "\n",
       "| char1 | num1 |\n",
       "|---|---|\n",
       "| A | 1 |\n",
       "| B | 2 |\n",
       "| B | 3 |\n",
       "| C | 3 |\n",
       "| C | 3 |\n",
       "\n"
      ],
      "text/plain": [
       "  char1 num1\n",
       "1 A     1   \n",
       "2 B     2   \n",
       "3 B     3   \n",
       "4 C     3   \n",
       "5 C     3   "
      ]
     },
     "metadata": {},
     "output_type": "display_data"
    }
   ],
   "source": [
    "num1 <-rep(1:3,c(1,1,3))\n",
    "num1\n",
    "test4<-data.frame(char1,num1)\n",
    "test4"
   ]
  },
  {
   "cell_type": "code",
   "execution_count": 106,
   "metadata": {},
   "outputs": [
    {
     "data": {
      "text/html": [
       "<table>\n",
       "<thead><tr><th scope=col>char1</th><th scope=col>num1</th></tr></thead>\n",
       "<tbody>\n",
       "\t<tr><td>A</td><td>1</td></tr>\n",
       "\t<tr><td>A</td><td>1</td></tr>\n",
       "\t<tr><td>B</td><td>2</td></tr>\n",
       "\t<tr><td>B</td><td>2</td></tr>\n",
       "\t<tr><td>C</td><td>3</td></tr>\n",
       "\t<tr><td>A</td><td>1</td></tr>\n",
       "\t<tr><td>B</td><td>2</td></tr>\n",
       "\t<tr><td>B</td><td>3</td></tr>\n",
       "\t<tr><td>C</td><td>3</td></tr>\n",
       "\t<tr><td>C</td><td>3</td></tr>\n",
       "</tbody>\n",
       "</table>\n"
      ],
      "text/latex": [
       "\\begin{tabular}{r|ll}\n",
       " char1 & num1\\\\\n",
       "\\hline\n",
       "\t A & 1\\\\\n",
       "\t A & 1\\\\\n",
       "\t B & 2\\\\\n",
       "\t B & 2\\\\\n",
       "\t C & 3\\\\\n",
       "\t A & 1\\\\\n",
       "\t B & 2\\\\\n",
       "\t B & 3\\\\\n",
       "\t C & 3\\\\\n",
       "\t C & 3\\\\\n",
       "\\end{tabular}\n"
      ],
      "text/markdown": [
       "\n",
       "| char1 | num1 |\n",
       "|---|---|\n",
       "| A | 1 |\n",
       "| A | 1 |\n",
       "| B | 2 |\n",
       "| B | 2 |\n",
       "| C | 3 |\n",
       "| A | 1 |\n",
       "| B | 2 |\n",
       "| B | 3 |\n",
       "| C | 3 |\n",
       "| C | 3 |\n",
       "\n"
      ],
      "text/plain": [
       "   char1 num1\n",
       "1  A     1   \n",
       "2  A     1   \n",
       "3  B     2   \n",
       "4  B     2   \n",
       "5  C     3   \n",
       "6  A     1   \n",
       "7  B     2   \n",
       "8  B     3   \n",
       "9  C     3   \n",
       "10 C     3   "
      ]
     },
     "metadata": {},
     "output_type": "display_data"
    }
   ],
   "source": [
    "rbind(test1,test4) #아래로 합친 형태"
   ]
  },
  {
   "cell_type": "code",
   "execution_count": 107,
   "metadata": {},
   "outputs": [
    {
     "data": {
      "text/html": [
       "<table>\n",
       "<thead><tr><th scope=col>char1</th><th scope=col>num1</th></tr></thead>\n",
       "<tbody>\n",
       "\t<tr><td>A</td><td>1</td></tr>\n",
       "\t<tr><td>A</td><td>1</td></tr>\n",
       "\t<tr><td>B</td><td>2</td></tr>\n",
       "\t<tr><td>B</td><td>2</td></tr>\n",
       "\t<tr><td>C</td><td>3</td></tr>\n",
       "\t<tr><td>C</td><td>3</td></tr>\n",
       "</tbody>\n",
       "</table>\n"
      ],
      "text/latex": [
       "\\begin{tabular}{r|ll}\n",
       " char1 & num1\\\\\n",
       "\\hline\n",
       "\t A & 1\\\\\n",
       "\t A & 1\\\\\n",
       "\t B & 2\\\\\n",
       "\t B & 2\\\\\n",
       "\t C & 3\\\\\n",
       "\t C & 3\\\\\n",
       "\\end{tabular}\n"
      ],
      "text/markdown": [
       "\n",
       "| char1 | num1 |\n",
       "|---|---|\n",
       "| A | 1 |\n",
       "| A | 1 |\n",
       "| B | 2 |\n",
       "| B | 2 |\n",
       "| C | 3 |\n",
       "| C | 3 |\n",
       "\n"
      ],
      "text/plain": [
       "  char1 num1\n",
       "1 A     1   \n",
       "2 A     1   \n",
       "3 B     2   \n",
       "4 B     2   \n",
       "5 C     3   \n",
       "6 C     3   "
      ]
     },
     "metadata": {},
     "output_type": "display_data"
    }
   ],
   "source": [
    "merge(test1,test4) #같은 변수에 대해 한번만 출력. 처음의 변수에 대해 알파벳 순서로 정렬이 되고 나머지 변수들이 옆으로 나열"
   ]
  }
 ],
 "metadata": {
  "kernelspec": {
   "display_name": "R",
   "language": "R",
   "name": "ir"
  },
  "language_info": {
   "codemirror_mode": "r",
   "file_extension": ".r",
   "mimetype": "text/x-r-source",
   "name": "R",
   "pygments_lexer": "r",
   "version": "3.6.1"
  }
 },
 "nbformat": 4,
 "nbformat_minor": 4
}

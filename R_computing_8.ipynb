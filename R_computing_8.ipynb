{
 "cells": [
  {
   "cell_type": "markdown",
   "metadata": {},
   "source": [
    "#두 변수 간 상관관계를 나타내는 산점도"
   ]
  },
  {
   "cell_type": "code",
   "execution_count": 7,
   "metadata": {},
   "outputs": [
    {
     "data": {
      "text/html": [
       "<table>\n",
       "<thead><tr><th></th><th scope=col>mpg</th><th scope=col>cyl</th><th scope=col>disp</th><th scope=col>hp</th><th scope=col>drat</th><th scope=col>wt</th><th scope=col>qsec</th><th scope=col>vs</th><th scope=col>am</th><th scope=col>gear</th><th scope=col>carb</th></tr></thead>\n",
       "<tbody>\n",
       "\t<tr><th scope=row>Mazda RX4</th><td>21.0 </td><td>6    </td><td>160  </td><td>110  </td><td>3.90 </td><td>2.620</td><td>16.46</td><td>0    </td><td>1    </td><td>4    </td><td>4    </td></tr>\n",
       "\t<tr><th scope=row>Mazda RX4 Wag</th><td>21.0 </td><td>6    </td><td>160  </td><td>110  </td><td>3.90 </td><td>2.875</td><td>17.02</td><td>0    </td><td>1    </td><td>4    </td><td>4    </td></tr>\n",
       "\t<tr><th scope=row>Datsun 710</th><td>22.8 </td><td>4    </td><td>108  </td><td> 93  </td><td>3.85 </td><td>2.320</td><td>18.61</td><td>1    </td><td>1    </td><td>4    </td><td>1    </td></tr>\n",
       "\t<tr><th scope=row>Hornet 4 Drive</th><td>21.4 </td><td>6    </td><td>258  </td><td>110  </td><td>3.08 </td><td>3.215</td><td>19.44</td><td>1    </td><td>0    </td><td>3    </td><td>1    </td></tr>\n",
       "\t<tr><th scope=row>Hornet Sportabout</th><td>18.7 </td><td>8    </td><td>360  </td><td>175  </td><td>3.15 </td><td>3.440</td><td>17.02</td><td>0    </td><td>0    </td><td>3    </td><td>2    </td></tr>\n",
       "\t<tr><th scope=row>Valiant</th><td>18.1 </td><td>6    </td><td>225  </td><td>105  </td><td>2.76 </td><td>3.460</td><td>20.22</td><td>1    </td><td>0    </td><td>3    </td><td>1    </td></tr>\n",
       "</tbody>\n",
       "</table>\n"
      ],
      "text/latex": [
       "\\begin{tabular}{r|lllllllllll}\n",
       "  & mpg & cyl & disp & hp & drat & wt & qsec & vs & am & gear & carb\\\\\n",
       "\\hline\n",
       "\tMazda RX4 & 21.0  & 6     & 160   & 110   & 3.90  & 2.620 & 16.46 & 0     & 1     & 4     & 4    \\\\\n",
       "\tMazda RX4 Wag & 21.0  & 6     & 160   & 110   & 3.90  & 2.875 & 17.02 & 0     & 1     & 4     & 4    \\\\\n",
       "\tDatsun 710 & 22.8  & 4     & 108   &  93   & 3.85  & 2.320 & 18.61 & 1     & 1     & 4     & 1    \\\\\n",
       "\tHornet 4 Drive & 21.4  & 6     & 258   & 110   & 3.08  & 3.215 & 19.44 & 1     & 0     & 3     & 1    \\\\\n",
       "\tHornet Sportabout & 18.7  & 8     & 360   & 175   & 3.15  & 3.440 & 17.02 & 0     & 0     & 3     & 2    \\\\\n",
       "\tValiant & 18.1  & 6     & 225   & 105   & 2.76  & 3.460 & 20.22 & 1     & 0     & 3     & 1    \\\\\n",
       "\\end{tabular}\n"
      ],
      "text/markdown": [
       "\n",
       "| <!--/--> | mpg | cyl | disp | hp | drat | wt | qsec | vs | am | gear | carb |\n",
       "|---|---|---|---|---|---|---|---|---|---|---|---|\n",
       "| Mazda RX4 | 21.0  | 6     | 160   | 110   | 3.90  | 2.620 | 16.46 | 0     | 1     | 4     | 4     |\n",
       "| Mazda RX4 Wag | 21.0  | 6     | 160   | 110   | 3.90  | 2.875 | 17.02 | 0     | 1     | 4     | 4     |\n",
       "| Datsun 710 | 22.8  | 4     | 108   |  93   | 3.85  | 2.320 | 18.61 | 1     | 1     | 4     | 1     |\n",
       "| Hornet 4 Drive | 21.4  | 6     | 258   | 110   | 3.08  | 3.215 | 19.44 | 1     | 0     | 3     | 1     |\n",
       "| Hornet Sportabout | 18.7  | 8     | 360   | 175   | 3.15  | 3.440 | 17.02 | 0     | 0     | 3     | 2     |\n",
       "| Valiant | 18.1  | 6     | 225   | 105   | 2.76  | 3.460 | 20.22 | 1     | 0     | 3     | 1     |\n",
       "\n"
      ],
      "text/plain": [
       "                  mpg  cyl disp hp  drat wt    qsec  vs am gear carb\n",
       "Mazda RX4         21.0 6   160  110 3.90 2.620 16.46 0  1  4    4   \n",
       "Mazda RX4 Wag     21.0 6   160  110 3.90 2.875 17.02 0  1  4    4   \n",
       "Datsun 710        22.8 4   108   93 3.85 2.320 18.61 1  1  4    1   \n",
       "Hornet 4 Drive    21.4 6   258  110 3.08 3.215 19.44 1  0  3    1   \n",
       "Hornet Sportabout 18.7 8   360  175 3.15 3.440 17.02 0  0  3    2   \n",
       "Valiant           18.1 6   225  105 2.76 3.460 20.22 1  0  3    1   "
      ]
     },
     "metadata": {},
     "output_type": "display_data"
    },
    {
     "data": {
      "text/html": [
       "<table>\n",
       "<thead><tr><th></th><th scope=col>mpg</th><th scope=col>cyl</th><th scope=col>disp</th><th scope=col>hp</th><th scope=col>drat</th><th scope=col>wt</th><th scope=col>qsec</th><th scope=col>vs</th><th scope=col>am</th><th scope=col>gear</th><th scope=col>carb</th></tr></thead>\n",
       "<tbody>\n",
       "\t<tr><th scope=row>Mazda RX4</th><td>0.04 </td><td>0.82 </td><td> 0.83</td><td> 0.84</td><td>0.55 </td><td>0.74 </td><td> 0.56</td><td>0.84 </td><td>0.01 </td><td>0.39 </td><td> 0.39</td></tr>\n",
       "\t<tr><th scope=row>Mazda RX4 Wag</th><td>0.04 </td><td>0.82 </td><td> 0.83</td><td> 0.84</td><td>0.55 </td><td>0.82 </td><td>-0.72</td><td>0.84 </td><td>0.01 </td><td>0.39 </td><td> 0.39</td></tr>\n",
       "\t<tr><th scope=row>Datsun 710</th><td>0.48 </td><td>0.39 </td><td>-0.70</td><td>-0.84</td><td>0.61 </td><td>0.46 </td><td> 0.83</td><td>0.01 </td><td>0.01 </td><td>0.39 </td><td> 0.01</td></tr>\n",
       "\t<tr><th scope=row>Hornet 4 Drive</th><td>0.71 </td><td>0.82 </td><td> 0.79</td><td> 0.84</td><td>0.84 </td><td>0.84 </td><td> 0.71</td><td>0.01 </td><td>0.84 </td><td>0.84 </td><td> 0.01</td></tr>\n",
       "\t<tr><th scope=row>Hornet Sportabout</th><td>0.84 </td><td>0.76 </td><td>-0.83</td><td> 0.23</td><td>0.84 </td><td>0.82 </td><td>-0.72</td><td>0.84 </td><td>0.84 </td><td>0.84 </td><td>-0.54</td></tr>\n",
       "\t<tr><th scope=row>Valiant</th><td>0.56 </td><td>0.82 </td><td>-0.73</td><td>-0.59</td><td>0.80 </td><td>0.81 </td><td> 0.21</td><td>0.01 </td><td>0.84 </td><td>0.84 </td><td> 0.01</td></tr>\n",
       "</tbody>\n",
       "</table>\n"
      ],
      "text/latex": [
       "\\begin{tabular}{r|lllllllllll}\n",
       "  & mpg & cyl & disp & hp & drat & wt & qsec & vs & am & gear & carb\\\\\n",
       "\\hline\n",
       "\tMazda RX4 & 0.04  & 0.82  &  0.83 &  0.84 & 0.55  & 0.74  &  0.56 & 0.84  & 0.01  & 0.39  &  0.39\\\\\n",
       "\tMazda RX4 Wag & 0.04  & 0.82  &  0.83 &  0.84 & 0.55  & 0.82  & -0.72 & 0.84  & 0.01  & 0.39  &  0.39\\\\\n",
       "\tDatsun 710 & 0.48  & 0.39  & -0.70 & -0.84 & 0.61  & 0.46  &  0.83 & 0.01  & 0.01  & 0.39  &  0.01\\\\\n",
       "\tHornet 4 Drive & 0.71  & 0.82  &  0.79 &  0.84 & 0.84  & 0.84  &  0.71 & 0.01  & 0.84  & 0.84  &  0.01\\\\\n",
       "\tHornet Sportabout & 0.84  & 0.76  & -0.83 &  0.23 & 0.84  & 0.82  & -0.72 & 0.84  & 0.84  & 0.84  & -0.54\\\\\n",
       "\tValiant & 0.56  & 0.82  & -0.73 & -0.59 & 0.80  & 0.81  &  0.21 & 0.01  & 0.84  & 0.84  &  0.01\\\\\n",
       "\\end{tabular}\n"
      ],
      "text/markdown": [
       "\n",
       "| <!--/--> | mpg | cyl | disp | hp | drat | wt | qsec | vs | am | gear | carb |\n",
       "|---|---|---|---|---|---|---|---|---|---|---|---|\n",
       "| Mazda RX4 | 0.04  | 0.82  |  0.83 |  0.84 | 0.55  | 0.74  |  0.56 | 0.84  | 0.01  | 0.39  |  0.39 |\n",
       "| Mazda RX4 Wag | 0.04  | 0.82  |  0.83 |  0.84 | 0.55  | 0.82  | -0.72 | 0.84  | 0.01  | 0.39  |  0.39 |\n",
       "| Datsun 710 | 0.48  | 0.39  | -0.70 | -0.84 | 0.61  | 0.46  |  0.83 | 0.01  | 0.01  | 0.39  |  0.01 |\n",
       "| Hornet 4 Drive | 0.71  | 0.82  |  0.79 |  0.84 | 0.84  | 0.84  |  0.71 | 0.01  | 0.84  | 0.84  |  0.01 |\n",
       "| Hornet Sportabout | 0.84  | 0.76  | -0.83 |  0.23 | 0.84  | 0.82  | -0.72 | 0.84  | 0.84  | 0.84  | -0.54 |\n",
       "| Valiant | 0.56  | 0.82  | -0.73 | -0.59 | 0.80  | 0.81  |  0.21 | 0.01  | 0.84  | 0.84  |  0.01 |\n",
       "\n"
      ],
      "text/plain": [
       "                  mpg  cyl  disp  hp    drat wt   qsec  vs   am   gear carb \n",
       "Mazda RX4         0.04 0.82  0.83  0.84 0.55 0.74  0.56 0.84 0.01 0.39  0.39\n",
       "Mazda RX4 Wag     0.04 0.82  0.83  0.84 0.55 0.82 -0.72 0.84 0.01 0.39  0.39\n",
       "Datsun 710        0.48 0.39 -0.70 -0.84 0.61 0.46  0.83 0.01 0.01 0.39  0.01\n",
       "Hornet 4 Drive    0.71 0.82  0.79  0.84 0.84 0.84  0.71 0.01 0.84 0.84  0.01\n",
       "Hornet Sportabout 0.84 0.76 -0.83  0.23 0.84 0.82 -0.72 0.84 0.84 0.84 -0.54\n",
       "Valiant           0.56 0.82 -0.73 -0.59 0.80 0.81  0.21 0.01 0.84 0.84  0.01"
      ]
     },
     "metadata": {},
     "output_type": "display_data"
    }
   ],
   "source": [
    "library(magrittr)\n",
    "mtcars %>% head #head(mtcars) 수행\n",
    "mtcars %>% tan %>% cos %>% sin %>% head %>% round(2) \n",
    "#mtcars 자료의 모든 ㅕㅂㄴ수에 대해 모두 tangent 변환을 수행하고\n",
    "#cosine 변환을 한 다음 sine 변환 후 처음 6개 값만 보인 후\n",
    "#소숫점 셋째 자리에서 반올림 하라"
   ]
  },
  {
   "cell_type": "code",
   "execution_count": null,
   "metadata": {},
   "outputs": [],
   "source": [
    "install.packages(\"corrr\")\n",
    "library(corrr)\n",
    "install.packages(\"magrittr\")\n",
    "library(magrittr)\n",
    "mtcars %>% head #head(mtcars) 수행\n",
    "mtcars %>% tan %>% cos %>% sin %>% head %>% round(2) \n",
    "mtcars %>% correlate() %>% fashion()\n",
    "mtcars %>% correlate() %>% rplot()\n",
    "#t 상관도 네트워크 그림\n",
    "mtcars %>% correlate() %>% network_plot(min_cor=.3) #상관계수 절대값이 0.3 이상이면 네트워크로 표현"
   ]
  },
  {
   "cell_type": "code",
   "execution_count": null,
   "metadata": {},
   "outputs": [],
   "source": [
    "#변수간의 상관도의 정도를 나무 그림 형태로 표현 \n",
    "install.packages(\"Hmisc\")\n",
    "library(Hmisc)\n",
    "library(MASS)\n",
    "temp <- Cars93[,c('Price','MPG.city','Horsepower','RPM','Length','Wheelbase')]\n",
    "plot(v<-varclus(~., data=temp, similarity=\"spear\"))"
   ]
  },
  {
   "cell_type": "code",
   "execution_count": null,
   "metadata": {},
   "outputs": [],
   "source": [
    "#jpeg 그림 불러오기\n",
    "library(jpeg)\n",
    "sales.amount <- c(1.5,2.3,5.4,7.5,9,8)\n",
    "img readJPEG(\"경로\") #외부 이미지 불러오기\n",
    "plot(c(0.5,6.5), c(0,10), axes=F, cex.lab=1.3) #전체적으로 그래프를 그릴 준비를 해라\n",
    "type='n', xlab='Months', ylab='Sales(in million dollars)')\n",
    "axis (1, at=c(1,2,3,4,5,6), labels=c('January','February','March','April','May','June'), cex.axis=1.2') #x축\n",
    "axis (2, at=c(0,2,4,6,8,10), labels=c('0','2','4','6','8','10'), cex.axis=1.2) #y축\n",
    "lines(1:6, sales.amount, lwd=2, col='orange')\n",
    "for (jj in 1:6{rasterImage(img, jj-0.3, sales.amount[jj]-0.3, jj+0.3, sales.amount[jj]+0.3)}) #외부이미지를 뿌려주는 과정"
   ]
  },
  {
   "cell_type": "code",
   "execution_count": null,
   "metadata": {},
   "outputs": [],
   "source": [
    "#png 그림 불러오기\n",
    "library(png)\n",
    "img <- readPNG(\"경로\")\n",
    "plot(c(1,6),c(15,46), cex.lab=1.3, axes=F, type='n', xlab='Engine Size', ylab='MPG in CIty')\n",
    "rasterImage(img, 0.7, 14.5, 6.1, 46.0)\n",
    "axis(1, at=c(1,2,3,4,5,6), labels=c('1','2','3','4','5','6'), cex.axis=1.2)\n",
    "axis(2, at=seq(15, 45, by=5), labels=seq(15,45, by=5), cex.axis=1.2)\n",
    "with(subset(Cars93, Origin=='non=USA'), points(EngineSize, MPG.city, col=2, pch=16))\n",
    "with(subset(Cars93, Origin=='USA'), points(EngineSize, MPG.city, col=4, pch=16))\n",
    "legend('topright', bty='n', c('non-USA, 'USA'), col=c(2,4), lwd=2, pch=16)\n",
    "text(2.3, 35, pos=4, 'Cars in USA have low MPGs in City, \\nwhile having large engines compared \\nto Non-USA.', col=1)"
   ]
  },
  {
   "cell_type": "code",
   "execution_count": null,
   "metadata": {},
   "outputs": [],
   "source": [
    "#그림저장\n",
    "jpeg(file='파일 이름'), width=6, height=6, units='in', res=600, bg=\"white\")\n",
    "dev.off()\n",
    "\n",
    "pdf(file='제목', ,width=6, height=6, bg=\"white\", paper='special')\n",
    "dev.off()"
   ]
  },
  {
   "cell_type": "code",
   "execution_count": null,
   "metadata": {},
   "outputs": [],
   "source": [
    "#subgroup 존재하는 경우 산점도\n",
    "library(ggplot2)\n",
    "qplot(Horsepower, Price, data=Cars93, colour=AirBags, size=AirBags) #에어백에 따라 컬러 사이즈 구분 "
   ]
  },
  {
   "cell_type": "code",
   "execution_count": null,
   "metadata": {},
   "outputs": [],
   "source": [
    "#subgroup 존재하는 경우 산점도 \n",
    "Cars93$manual <- with (Cars93, ifelse(Man.trans.avail=='No', 'Manual_Trans_No', \n",
    "                                     'Manual_Trans_Yes'))\n",
    "with(Cars93, qplot(Horsepower, Price, data=Cars93, facets=manual ~ Origin))"
   ]
  },
  {
   "cell_type": "code",
   "execution_count": null,
   "metadata": {},
   "outputs": [],
   "source": [
    "#qplot 활용한 확률밀도 함수 그림\n",
    "qplot(Fuel.tank.capacity, data=Cars93, geom=\"density\", fill=Origin, alpha=I(2),\n",
    "      main=\"Fuel tank capacity by Origin\", xlab=\"Fuel tank capacity (US gallons)\",\n",
    "      ylab=\"Density\")+theme(plot.title=element_text(hjust=0.5))"
   ]
  },
  {
   "cell_type": "code",
   "execution_count": null,
   "metadata": {},
   "outputs": [],
   "source": [
    "#ggplot 함수를 이용하면 따로 회귀 계수 계산할 필요 없이 회귀선 추가\n",
    "ggplot(Cars93, aes(x=Horsepower, y=Price))+geom_point(shape=16)+geom_smooth(method=lm)"
   ]
  },
  {
   "cell_type": "code",
   "execution_count": null,
   "metadata": {},
   "outputs": [],
   "source": [
    "#신뢰구간 표시되지 않게 \n",
    "ggplot(Cars93, aes(x=Horsepower, y=Price))+geom_point(shape=16)+geom_smooth(method=lm, se=FALSE)"
   ]
  },
  {
   "cell_type": "code",
   "execution_count": null,
   "metadata": {},
   "outputs": [],
   "source": [
    "#smooth line 추가 산점도 \n",
    "qplot(Horsepower, Price, data=Cars93, geom=c(\"point\",\"smooth\"), color=Origin,\n",
    "      main=\"Price vs Horsepower by Origin\", xlab=\"Horsepower\", ylab=\"Price\") +\n",
    "      theme(plot.title=element_text(hjust=0.5))"
   ]
  },
  {
   "cell_type": "code",
   "execution_count": null,
   "metadata": {},
   "outputs": [],
   "source": [
    "#연속형 변수가 추가된 산점도 \n",
    "ggplot(Cars93, aes(x=Horsepower, y=Price, color=Width))+geom_point(shape=16)+\n",
    "  scale_color_gradient(low=\"yellow\", high=\"red\") #그라데이션 효과 연속형 변수 Width 를 색깔로 표현 "
   ]
  },
  {
   "cell_type": "code",
   "execution_count": null,
   "metadata": {},
   "outputs": [],
   "source": [
    "#무지개색으로 표현\n",
    "ggplot(Cars93, aes(x=Horsepower, y=Price, color=Width))+geom_point(shape=16)+\n",
    "  scale_color_gradientn(colours=rainbow(5))"
   ]
  },
  {
   "cell_type": "code",
   "execution_count": null,
   "metadata": {},
   "outputs": [],
   "source": [
    "#색지정을 위해 RColorBrewer 란느 패키지의 Dark2 라는 pallette 사용\n",
    "install.packages(\"RColorBrewer\")\n",
    "library(RColorBrewer)\n",
    "library(ggplot2)\n",
    "ggplot(Cars93, aes(x=Horsepower, y=Price, shape=AirBags, color=AirBags)) +geom_point(size=3)+scale_shape_manual(values=c(16, 17, 18)) +\n",
    "  scale_color_brewer(palette=\"Dark2\")"
   ]
  },
  {
   "cell_type": "code",
   "execution_count": null,
   "metadata": {},
   "outputs": [],
   "source": [
    "#명목형변수가 추가되는 경우의 산점도 회귀선 그리기 위해 옵션 추가\n",
    "ggplot(Cars93, aes(x=Horsepower, y=Price, shape=AirBags, color=AirBags)) +geom_point(size=3)+scale_shape_manual(values=c(16, 17, 18)) +\n",
    "  scale_color_brewer(palette=\"Dark2\") + geom_smooth(method=lm, se=FALSE)"
   ]
  },
  {
   "cell_type": "code",
   "execution_count": null,
   "metadata": {},
   "outputs": [],
   "source": [
    "#회귀선 연장을 위해 옵션 fullrange=TRUE 추가 전 영역에 회귀선 추가\n",
    "ggplot(Cars93, aes(x=Horsepower, y=Price, shape=AirBags, color=AirBags)) +geom_point(size=3)+scale_shape_manual(values=c(16, 17, 18)) +\n",
    "  scale_color_brewer(palette=\"Dark2\") + geom_smooth(method=lm, se=FALSE, fullrange=TRUE)"
   ]
  }
 ],
 "metadata": {
  "kernelspec": {
   "display_name": "R",
   "language": "R",
   "name": "ir"
  },
  "language_info": {
   "codemirror_mode": "r",
   "file_extension": ".r",
   "mimetype": "text/x-r-source",
   "name": "R",
   "pygments_lexer": "r",
   "version": "3.6.1"
  }
 },
 "nbformat": 4,
 "nbformat_minor": 4
}

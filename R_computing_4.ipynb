{
 "cells": [
  {
   "cell_type": "markdown",
   "metadata": {},
   "source": [
    "#R함수만들기"
   ]
  },
  {
   "cell_type": "code",
   "execution_count": 4,
   "metadata": {},
   "outputs": [
    {
     "data": {
      "text/html": [
       "10"
      ],
      "text/latex": [
       "10"
      ],
      "text/markdown": [
       "10"
      ],
      "text/plain": [
       "[1] 10"
      ]
     },
     "metadata": {},
     "output_type": "display_data"
    },
    {
     "data": {
      "text/html": [
       "1"
      ],
      "text/latex": [
       "1"
      ],
      "text/markdown": [
       "1"
      ],
      "text/plain": [
       "[1] 1"
      ]
     },
     "metadata": {},
     "output_type": "display_data"
    },
    {
     "data": {
      "text/html": [
       "8"
      ],
      "text/latex": [
       "8"
      ],
      "text/markdown": [
       "8"
      ],
      "text/plain": [
       "[1] 8"
      ]
     },
     "metadata": {},
     "output_type": "display_data"
    }
   ],
   "source": [
    "u <-1 #전역변수\n",
    "v <-8 #전역변수\n",
    "g <- function(x){#x:매개변수\n",
    "x<-x+1\n",
    "u<-u+x#u 는 지역변수의 역할\n",
    "return(u)\n",
    "}\n",
    "g(v)\n",
    "u #전역변수는 값의 변화 없음 \n",
    "v"
   ]
  },
  {
   "cell_type": "code",
   "execution_count": 5,
   "metadata": {},
   "outputs": [
    {
     "data": {
      "text/html": [
       "2.86449737615001"
      ],
      "text/latex": [
       "2.86449737615001"
      ],
      "text/markdown": [
       "2.86449737615001"
      ],
      "text/plain": [
       "[1] 2.864497"
      ]
     },
     "metadata": {},
     "output_type": "display_data"
    },
    {
     "data": {
      "text/html": [
       "2.95599489845248"
      ],
      "text/latex": [
       "2.95599489845248"
      ],
      "text/markdown": [
       "2.95599489845248"
      ],
      "text/plain": [
       "[1] 2.955995"
      ]
     },
     "metadata": {},
     "output_type": "display_data"
    },
    {
     "data": {
      "text/html": [
       "3.01547686913085"
      ],
      "text/latex": [
       "3.01547686913085"
      ],
      "text/markdown": [
       "3.01547686913085"
      ],
      "text/plain": [
       "[1] 3.015477"
      ]
     },
     "metadata": {},
     "output_type": "display_data"
    }
   ],
   "source": [
    "d.mean <- function(data){#함수 선언\n",
    "sum(data)/length(data) #매개변수 값으로 들어온 data 의 값을 data의 크기로 나누기\n",
    "}\n",
    "x<-rnorm(100, mean=3, sd=1.5)\n",
    "d.mean(x)\n",
    "x<-rnorm(1000, mean=3, sd=1.5)\n",
    "d.mean(x)\n",
    "x<-rnorm(10000, mean=3, sd=1.5)\n",
    "d.mean(x)"
   ]
  },
  {
   "cell_type": "code",
   "execution_count": 11,
   "metadata": {},
   "outputs": [
    {
     "data": {
      "text/html": [
       "3.679542467863"
      ],
      "text/latex": [
       "3.679542467863"
      ],
      "text/markdown": [
       "3.679542467863"
      ],
      "text/plain": [
       "[1] 3.679542"
      ]
     },
     "metadata": {},
     "output_type": "display_data"
    }
   ],
   "source": [
    "data <- rnorm(100, 3, 2)\n",
    "d.var <- function(data){\n",
    "    data.var <-sum((data - d.mean(data))^2)/(length(data)-1)\n",
    "    return(data.var)\n",
    "}\n",
    "d.var(data)"
   ]
  },
  {
   "cell_type": "code",
   "execution_count": 12,
   "metadata": {},
   "outputs": [
    {
     "data": {
      "text/html": [
       "<ol class=list-inline>\n",
       "\t<li>-4.75853888742344</li>\n",
       "\t<li>9.03096788927888</li>\n",
       "</ol>\n"
      ],
      "text/latex": [
       "\\begin{enumerate*}\n",
       "\\item -4.75853888742344\n",
       "\\item 9.03096788927888\n",
       "\\end{enumerate*}\n"
      ],
      "text/markdown": [
       "1. -4.75853888742344\n",
       "2. 9.03096788927888\n",
       "\n",
       "\n"
      ],
      "text/plain": [
       "[1] -4.758539  9.030968"
      ]
     },
     "metadata": {},
     "output_type": "display_data"
    }
   ],
   "source": [
    "d.range <- function(data){\n",
    "    data.min<-min(data)\n",
    "    data.max<-max(data)\n",
    "    c(data.min, data.max) #범위 출력 여기까지 그냥 메모장에 저장\n",
    "}\n",
    "#함수생성된 거 가져오는 코드 source(\"경로\")\n",
    "d.range(x)"
   ]
  },
  {
   "cell_type": "code",
   "execution_count": 13,
   "metadata": {},
   "outputs": [
    {
     "data": {
      "text/html": [
       "3"
      ],
      "text/latex": [
       "3"
      ],
      "text/markdown": [
       "3"
      ],
      "text/plain": [
       "[1] 3"
      ]
     },
     "metadata": {},
     "output_type": "display_data"
    },
    {
     "data": {
      "text/html": [
       "-1"
      ],
      "text/latex": [
       "-1"
      ],
      "text/markdown": [
       "-1"
      ],
      "text/plain": [
       "[1] -1"
      ]
     },
     "metadata": {},
     "output_type": "display_data"
    }
   ],
   "source": [
    "f1 <- function(x,y){return(x+y)}\n",
    "f2 <- function(x,y){return(x-y)}\n",
    "f <- f1\n",
    "f(1,2)\n",
    "f <- f2\n",
    "f(1,2)"
   ]
  },
  {
   "cell_type": "code",
   "execution_count": 14,
   "metadata": {},
   "outputs": [
    {
     "data": {
      "text/html": [
       "3"
      ],
      "text/latex": [
       "3"
      ],
      "text/markdown": [
       "3"
      ],
      "text/plain": [
       "[1] 3"
      ]
     },
     "metadata": {},
     "output_type": "display_data"
    },
    {
     "data": {
      "text/html": [
       "-1"
      ],
      "text/latex": [
       "-1"
      ],
      "text/markdown": [
       "-1"
      ],
      "text/plain": [
       "[1] -1"
      ]
     },
     "metadata": {},
     "output_type": "display_data"
    }
   ],
   "source": [
    "g <- function(h,x,y){h(x,y)} #f1,f2및 x,y를 매개변수로 하는 함수 g 생성 \n",
    "g(f1,1,2) \n",
    "g(f2,1,2)"
   ]
  },
  {
   "cell_type": "code",
   "execution_count": 15,
   "metadata": {},
   "outputs": [
    {
     "name": "stdout",
     "output_type": "stream",
     "text": [
      "[1] -3 -1  1  3\n"
     ]
    }
   ],
   "source": [
    "f0 <-function(){#매개변수가 없는 함수 선언\n",
    "    x<-c(1,2,3,4)\n",
    "    y<-c(4,3,2,1)\n",
    "    z<-x-y\n",
    "    print(z)#z를 출력\n",
    "    }\n",
    "f0()"
   ]
  },
  {
   "cell_type": "code",
   "execution_count": 19,
   "metadata": {},
   "outputs": [
    {
     "data": {
      "text/html": [
       "3.01547686913085"
      ],
      "text/latex": [
       "3.01547686913085"
      ],
      "text/markdown": [
       "3.01547686913085"
      ],
      "text/plain": [
       "[1] 3.015477"
      ]
     },
     "metadata": {},
     "output_type": "display_data"
    }
   ],
   "source": [
    "f_default <- function(data, num=1){#num=1 기본값\n",
    "    d.min<-min(data)\n",
    "    d.max<-max(data)\n",
    "    switch(num, mean(data), var(data), c(d.min, d.max))\n",
    "}\n",
    "f_default(x)"
   ]
  },
  {
   "cell_type": "code",
   "execution_count": 20,
   "metadata": {},
   "outputs": [
    {
     "data": {
      "text/html": [
       "TRUE"
      ],
      "text/latex": [
       "TRUE"
      ],
      "text/markdown": [
       "TRUE"
      ],
      "text/plain": [
       "[1] TRUE"
      ]
     },
     "metadata": {},
     "output_type": "display_data"
    }
   ],
   "source": [
    "is.function(f_default)#함수인지 아닌지 검증하는 함수"
   ]
  },
  {
   "cell_type": "code",
   "execution_count": 21,
   "metadata": {},
   "outputs": [
    {
     "data": {
      "text/html": [
       "<pre class=language-r><code>function (data, num = 1) \n",
       "NULL</code></pre>"
      ],
      "text/latex": [
       "\\begin{minted}{r}\n",
       "function (data, num = 1) \n",
       "NULL\n",
       "\\end{minted}"
      ],
      "text/markdown": [
       "```r\n",
       "function (data, num = 1) \n",
       "NULL\n",
       "```"
      ],
      "text/plain": [
       "function (data, num = 1) \n",
       "NULL"
      ]
     },
     "metadata": {},
     "output_type": "display_data"
    }
   ],
   "source": [
    "args(f_default)#매개변수를 반환하는 함수"
   ]
  },
  {
   "cell_type": "code",
   "execution_count": 22,
   "metadata": {},
   "outputs": [
    {
     "data": {
      "text/plain": [
       "$srcref\n",
       "function(data, num=1){#num=1 기본값\n",
       "    d.min<-min(data)\n",
       "    d.max<-max(data)\n",
       "    switch(num, mean(data), var(data), c(d.min, d.max))\n",
       "}\n"
      ]
     },
     "metadata": {},
     "output_type": "display_data"
    }
   ],
   "source": [
    "attributes(f_default)#소스코드반환"
   ]
  },
  {
   "cell_type": "code",
   "execution_count": 23,
   "metadata": {},
   "outputs": [
    {
     "data": {
      "text/html": [
       "<pre class=language-r><code>function (x, base = exp(1)) \n",
       "NULL</code></pre>"
      ],
      "text/latex": [
       "\\begin{minted}{r}\n",
       "function (x, base = exp(1)) \n",
       "NULL\n",
       "\\end{minted}"
      ],
      "text/markdown": [
       "```r\n",
       "function (x, base = exp(1)) \n",
       "NULL\n",
       "```"
      ],
      "text/plain": [
       "function (x, base = exp(1)) \n",
       "NULL"
      ]
     },
     "metadata": {},
     "output_type": "display_data"
    }
   ],
   "source": [
    "args(log)"
   ]
  },
  {
   "cell_type": "code",
   "execution_count": 24,
   "metadata": {},
   "outputs": [
    {
     "data": {
      "text/html": [
       "11"
      ],
      "text/latex": [
       "11"
      ],
      "text/markdown": [
       "11"
      ],
      "text/plain": [
       "[1] 11"
      ]
     },
     "metadata": {},
     "output_type": "display_data"
    }
   ],
   "source": [
    "#연산자의 생성\n",
    "\"%a2b%\" <-function(a,b) return(2*a+b)\n",
    "3%a2b%5"
   ]
  },
  {
   "cell_type": "code",
   "execution_count": 26,
   "metadata": {},
   "outputs": [
    {
     "name": "stdout",
     "output_type": "stream",
     "text": [
      "[1] 144\n"
     ]
    }
   ],
   "source": [
    "#함수 내에서의 함수 생성 *중요*\n",
    "f <-function(x){\n",
    "    v<-2\n",
    "    g<-function(y)return((u+v+y)^2)\n",
    "    gu <- g(u)\n",
    "    print(gu)\n",
    "}\n",
    "u <-5\n",
    "f()"
   ]
  }
 ],
 "metadata": {
  "kernelspec": {
   "display_name": "R",
   "language": "R",
   "name": "ir"
  },
  "language_info": {
   "codemirror_mode": "r",
   "file_extension": ".r",
   "mimetype": "text/x-r-source",
   "name": "R",
   "pygments_lexer": "r",
   "version": "3.6.1"
  }
 },
 "nbformat": 4,
 "nbformat_minor": 4
}
